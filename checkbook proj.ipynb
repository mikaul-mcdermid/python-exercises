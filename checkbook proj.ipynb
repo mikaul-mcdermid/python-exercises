{
 "cells": [
  {
   "cell_type": "markdown",
   "id": "e58a143c",
   "metadata": {},
   "source": [
    "1. Create a loop with the 4 main options: view bal, deposit, withdraw, quit\n",
    "2. Check for valid inputs on the 4 options, if it's not, continue to loop back until user selects one of the 4 options\n",
    "3. create a while loop for the 4 main options so it keeps asking until user selects quit\n",
    "4. Write deposits and withdrawals to balance.txt file\n",
    "5. Check for valid inputs on deposits(float/int types), return a invalid statement if input isn't a numerical input\n",
    "6. Double check to see if ledger file is being overwritter/appended\n",
    "7. ??\n",
    "8. Profit"
   ]
  },
  {
   "cell_type": "code",
   "execution_count": null,
   "id": "6345e811",
   "metadata": {},
   "outputs": [
    {
     "name": "stdout",
     "output_type": "stream",
     "text": [
      "Welcome to Generic Bank Inc! Please select from the following options:\n",
      "1-View Your Balance\n",
      "2-Deposits\n",
      "3-Withdrawals\n",
      "4-Quit\n",
      "1\n",
      "Your current balance is: $0.00\n"
     ]
    }
   ],
   "source": [
    "balance = 0\n",
    "while True:\n",
    "    greeting = input('Welcome to Generic Bank Inc! Please select from the following options:\\n1-View Your Balance\\n2-Deposits\\n3-Withdrawals\\n4-Quit\\n')\n",
    "    if greeting in [1, '1', 1.0, 'one', 'view balance', 'balance']:\n",
    "    #Show current balance if given any version of option 1 with added $, commas, and decimal places rounded to 2\n",
    "        print(f'Your current balance is: ${balance:.2f}')\n",
    "    elif greeting in [2, '2', 2.0, 'two', 'deposit','deposits']:\n",
    "    #Ask user how much they want to deposit\n",
    "        try:\n",
    "            deposit_amount = input('Enter the deposit amount: ')\n",
    "            deposit = float(deposit_amount)\n",
    "            if deposti > 0:\n",
    "                balance += deposit\n",
    "                print(f'You have deposited ${deposit:.2f}. Your new balance is ${balance:.2f}')\n",
    "            else:\n",
    "                print('Invalid input, please enter an acceptable deposit amount.')\n",
    "        except ValueError:('Invalid input. Please enter a valid number for the deposit amount.')\n",
    "    elif greeting in [3,'3',3.0, 'three', 'withdraw', 'withdrawals']:\n",
    "    #Ask user how much they want to withdraw\n",
    "        try:\n",
    "            withdrawal_amount = input('Enter the amount you wish to withdraw: ')\n",
    "            withdraw = float(withdrawal_amount)\n",
    "            if 0 < withdraw <= balance:\n",
    "                balance -= withdraw\n",
    "                print(f'You have successfully withdrawn ${withdraw:.2f}. Your new balance is: ${balance:.2f}')\n",
    "            else:\n",
    "                print('Invalid withdrawal amount. Please enter a valid amount within your balance.')\n",
    "        except ValueError:\n",
    "            print('Invalid input. Please enter a valid number for the withdrawal amount.')    \n",
    "    elif greeting in [4,'4',4.0, 'four', 'quit', 'exit', 'end']:\n",
    "    #make a break statement here to end the loop\n",
    "        print('Thank you for choosing Generic Banking Inc. Bring us more money next time. Goodbye.')\n",
    "        break\n",
    "else:\n",
    "    #give the user an invalid input statement and ask them to try again\n",
    "    print('Invalid input, please select an option from the menu.')"
   ]
  }
 ],
 "metadata": {
  "kernelspec": {
   "display_name": "Python 3 (ipykernel)",
   "language": "python",
   "name": "python3"
  },
  "language_info": {
   "codemirror_mode": {
    "name": "ipython",
    "version": 3
   },
   "file_extension": ".py",
   "mimetype": "text/x-python",
   "name": "python",
   "nbconvert_exporter": "python",
   "pygments_lexer": "ipython3",
   "version": "3.11.5"
  }
 },
 "nbformat": 4,
 "nbformat_minor": 5
}
