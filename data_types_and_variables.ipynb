{
 "cells": [
  {
   "cell_type": "markdown",
   "id": "be870db7",
   "metadata": {},
   "source": [
    "1. Identify the data type of the following values:\n",
    "\n",
    "\n",
    "99.9\n",
    "\n",
    "\"False\"\n",
    "\n",
    "False\n",
    "\n",
    "'0'\n",
    "\n",
    "0\n",
    "\n",
    "True\n",
    "\n",
    "'True'\n",
    "\n",
    "[{}]\n",
    "\n",
    "{'a': []}"
   ]
  },
  {
   "cell_type": "code",
   "execution_count": 2,
   "id": "aee4353a",
   "metadata": {},
   "outputs": [
    {
     "data": {
      "text/plain": [
       "float"
      ]
     },
     "execution_count": 2,
     "metadata": {},
     "output_type": "execute_result"
    }
   ],
   "source": [
    "type(99.9)"
   ]
  },
  {
   "cell_type": "code",
   "execution_count": 4,
   "id": "7b877e2e",
   "metadata": {},
   "outputs": [
    {
     "data": {
      "text/plain": [
       "str"
      ]
     },
     "execution_count": 4,
     "metadata": {},
     "output_type": "execute_result"
    }
   ],
   "source": [
    "type(\"False\")"
   ]
  },
  {
   "cell_type": "code",
   "execution_count": 6,
   "id": "928ffc98",
   "metadata": {},
   "outputs": [
    {
     "data": {
      "text/plain": [
       "bool"
      ]
     },
     "execution_count": 6,
     "metadata": {},
     "output_type": "execute_result"
    }
   ],
   "source": [
    "type(False)"
   ]
  },
  {
   "cell_type": "code",
   "execution_count": 8,
   "id": "0cc03c9b",
   "metadata": {},
   "outputs": [
    {
     "data": {
      "text/plain": [
       "str"
      ]
     },
     "execution_count": 8,
     "metadata": {},
     "output_type": "execute_result"
    }
   ],
   "source": [
    "type('0')"
   ]
  },
  {
   "cell_type": "code",
   "execution_count": 10,
   "id": "4b915ed9",
   "metadata": {},
   "outputs": [
    {
     "data": {
      "text/plain": [
       "int"
      ]
     },
     "execution_count": 10,
     "metadata": {},
     "output_type": "execute_result"
    }
   ],
   "source": [
    "type(0)"
   ]
  },
  {
   "cell_type": "code",
   "execution_count": 12,
   "id": "98b4808f",
   "metadata": {},
   "outputs": [
    {
     "data": {
      "text/plain": [
       "bool"
      ]
     },
     "execution_count": 12,
     "metadata": {},
     "output_type": "execute_result"
    }
   ],
   "source": [
    "type(True)"
   ]
  },
  {
   "cell_type": "code",
   "execution_count": 14,
   "id": "64105373",
   "metadata": {},
   "outputs": [
    {
     "data": {
      "text/plain": [
       "str"
      ]
     },
     "execution_count": 14,
     "metadata": {},
     "output_type": "execute_result"
    }
   ],
   "source": [
    "type('True')"
   ]
  },
  {
   "cell_type": "code",
   "execution_count": 16,
   "id": "d65b8a0f",
   "metadata": {},
   "outputs": [
    {
     "data": {
      "text/plain": [
       "list"
      ]
     },
     "execution_count": 16,
     "metadata": {},
     "output_type": "execute_result"
    }
   ],
   "source": [
    "type([{}])"
   ]
  },
  {
   "cell_type": "code",
   "execution_count": 17,
   "id": "e8b2489f",
   "metadata": {},
   "outputs": [
    {
     "data": {
      "text/plain": [
       "dict"
      ]
     },
     "execution_count": 17,
     "metadata": {},
     "output_type": "execute_result"
    }
   ],
   "source": [
    "type({'a': []})"
   ]
  },
  {
   "cell_type": "markdown",
   "id": "d6321b36",
   "metadata": {},
   "source": [
    "2. What data type would best represent the following?\n",
    "A term or phrase typed into a search box?\n",
    "Whether or not a user is logged in?\n",
    "A discount amount to apply to a user's shopping cart?\n",
    "Whether or not a coupon code is valid?\n",
    "An email address typed into a registration form?\n",
    "The price of a product\n",
    "The email addresses collected from a registration form?\n",
    "Information about applicants to Codeup's data science program"
   ]
  },
  {
   "cell_type": "markdown",
   "id": "13212b2b",
   "metadata": {},
   "source": [
    "A term or phrase typed into a search box? - str"
   ]
  },
  {
   "cell_type": "markdown",
   "id": "023adbb3",
   "metadata": {},
   "source": [
    "Whether or not a user is logged in? bool"
   ]
  },
  {
   "cell_type": "code",
   "execution_count": 76,
   "id": "5c152d44",
   "metadata": {},
   "outputs": [
    {
     "name": "stdout",
     "output_type": "stream",
     "text": [
      "Object `cart` not found.\n"
     ]
    }
   ],
   "source": [
    "A discount amount to apply to a user's shopping cart? -bool"
   ]
  },
  {
   "cell_type": "code",
   "execution_count": 77,
   "id": "bedc4c3f",
   "metadata": {},
   "outputs": [
    {
     "name": "stdout",
     "output_type": "stream",
     "text": [
      "Object `valid` not found.\n"
     ]
    }
   ],
   "source": [
    "Whether or not a coupon code is valid? -bool"
   ]
  },
  {
   "cell_type": "code",
   "execution_count": 80,
   "id": "22ab414b",
   "metadata": {},
   "outputs": [
    {
     "name": "stdout",
     "output_type": "stream",
     "text": [
      "Object `form` not found.\n"
     ]
    }
   ],
   "source": [
    "An email address typed into a registration form? -str"
   ]
  },
  {
   "cell_type": "code",
   "execution_count": null,
   "id": "eadf3504",
   "metadata": {},
   "outputs": [],
   "source": [
    "The price of a product - int/float"
   ]
  },
  {
   "cell_type": "code",
   "execution_count": 79,
   "id": "63921264",
   "metadata": {},
   "outputs": [
    {
     "name": "stdout",
     "output_type": "stream",
     "text": [
      "Object `form` not found.\n"
     ]
    }
   ],
   "source": [
    "The email addresses collected from a registration form? -list"
   ]
  },
  {
   "cell_type": "code",
   "execution_count": null,
   "id": "18587687",
   "metadata": {},
   "outputs": [],
   "source": [
    "Information about applicants to Codeup's data science program -str"
   ]
  },
  {
   "cell_type": "markdown",
   "id": "30500f69",
   "metadata": {},
   "source": [
    "3. For each of the following code blocks:\n",
    "Read the expression and predict the evaluated results\n",
    "Execute the expression in a Python REPL.\n",
    "'1' + 2\n",
    "6 % 4\n",
    "type(6 % 4)\n",
    "type(type(6 % 4))\n",
    "'3 + 4 is ' + 3 + 4\n",
    "0 < 0\n",
    "'False' == False\n",
    "True == 'True'\n",
    "5 >= -5\n",
    "True or \"42\"\n",
    "6 % 5\n",
    "5 < 4 and 1 == 1\n",
    "'codeup' == 'codeup' and 'codeup' == 'Codeup'\n",
    "4 >= 0 and 1 !== '1'\n",
    "6 % 3 == 0\n",
    "5 % 2 != 0\n",
    "[1] + 2\n",
    "[1] + [2]\n",
    "[1] * 2\n",
    "[1] * [2]\n",
    "[] + [] == []\n",
    "{} + {}"
   ]
  },
  {
   "cell_type": "code",
   "execution_count": 19,
   "id": "f9e49f61",
   "metadata": {
    "scrolled": true
   },
   "outputs": [
    {
     "ename": "TypeError",
     "evalue": "can only concatenate str (not \"int\") to str",
     "output_type": "error",
     "traceback": [
      "\u001b[0;31m---------------------------------------------------------------------------\u001b[0m",
      "\u001b[0;31mTypeError\u001b[0m                                 Traceback (most recent call last)",
      "Cell \u001b[0;32mIn[19], line 1\u001b[0m\n\u001b[0;32m----> 1\u001b[0m \u001b[38;5;124m'\u001b[39m\u001b[38;5;124m1\u001b[39m\u001b[38;5;124m'\u001b[39m \u001b[38;5;241m+\u001b[39m \u001b[38;5;241m2\u001b[39m\n",
      "\u001b[0;31mTypeError\u001b[0m: can only concatenate str (not \"int\") to str"
     ]
    }
   ],
   "source": [
    "'1' + 2"
   ]
  },
  {
   "cell_type": "code",
   "execution_count": 21,
   "id": "a5c2d291",
   "metadata": {},
   "outputs": [
    {
     "data": {
      "text/plain": [
       "2"
      ]
     },
     "execution_count": 21,
     "metadata": {},
     "output_type": "execute_result"
    }
   ],
   "source": [
    "6 % 4"
   ]
  },
  {
   "cell_type": "code",
   "execution_count": 22,
   "id": "21dfb561",
   "metadata": {},
   "outputs": [
    {
     "data": {
      "text/plain": [
       "int"
      ]
     },
     "execution_count": 22,
     "metadata": {},
     "output_type": "execute_result"
    }
   ],
   "source": [
    "type(6 % 4)"
   ]
  },
  {
   "cell_type": "code",
   "execution_count": 23,
   "id": "62a16859",
   "metadata": {},
   "outputs": [
    {
     "data": {
      "text/plain": [
       "type"
      ]
     },
     "execution_count": 23,
     "metadata": {},
     "output_type": "execute_result"
    }
   ],
   "source": [
    "type(type(6 % 4))"
   ]
  },
  {
   "cell_type": "code",
   "execution_count": 24,
   "id": "5fb3a6b4",
   "metadata": {},
   "outputs": [
    {
     "ename": "TypeError",
     "evalue": "can only concatenate str (not \"int\") to str",
     "output_type": "error",
     "traceback": [
      "\u001b[0;31m---------------------------------------------------------------------------\u001b[0m",
      "\u001b[0;31mTypeError\u001b[0m                                 Traceback (most recent call last)",
      "Cell \u001b[0;32mIn[24], line 1\u001b[0m\n\u001b[0;32m----> 1\u001b[0m \u001b[38;5;124m'\u001b[39m\u001b[38;5;124m3 + 4 is \u001b[39m\u001b[38;5;124m'\u001b[39m \u001b[38;5;241m+\u001b[39m \u001b[38;5;241m3\u001b[39m \u001b[38;5;241m+\u001b[39m \u001b[38;5;241m4\u001b[39m\n",
      "\u001b[0;31mTypeError\u001b[0m: can only concatenate str (not \"int\") to str"
     ]
    }
   ],
   "source": [
    "'3 + 4 is ' + 3 + 4"
   ]
  },
  {
   "cell_type": "code",
   "execution_count": 26,
   "id": "953d982e",
   "metadata": {},
   "outputs": [
    {
     "data": {
      "text/plain": [
       "False"
      ]
     },
     "execution_count": 26,
     "metadata": {},
     "output_type": "execute_result"
    }
   ],
   "source": [
    "0 < 0"
   ]
  },
  {
   "cell_type": "code",
   "execution_count": 28,
   "id": "ab7383ca",
   "metadata": {},
   "outputs": [
    {
     "data": {
      "text/plain": [
       "False"
      ]
     },
     "execution_count": 28,
     "metadata": {},
     "output_type": "execute_result"
    }
   ],
   "source": [
    "'False' == False"
   ]
  },
  {
   "cell_type": "code",
   "execution_count": 30,
   "id": "016358f7",
   "metadata": {},
   "outputs": [
    {
     "data": {
      "text/plain": [
       "False"
      ]
     },
     "execution_count": 30,
     "metadata": {},
     "output_type": "execute_result"
    }
   ],
   "source": [
    "True == 'True'"
   ]
  },
  {
   "cell_type": "code",
   "execution_count": 32,
   "id": "0b30a5be",
   "metadata": {},
   "outputs": [
    {
     "data": {
      "text/plain": [
       "True"
      ]
     },
     "execution_count": 32,
     "metadata": {},
     "output_type": "execute_result"
    }
   ],
   "source": [
    "5 >= -5"
   ]
  },
  {
   "cell_type": "code",
   "execution_count": 34,
   "id": "19819b5f",
   "metadata": {},
   "outputs": [
    {
     "data": {
      "text/plain": [
       "True"
      ]
     },
     "execution_count": 34,
     "metadata": {},
     "output_type": "execute_result"
    }
   ],
   "source": [
    "True or \"42\""
   ]
  },
  {
   "cell_type": "code",
   "execution_count": 36,
   "id": "520d39f2",
   "metadata": {},
   "outputs": [
    {
     "data": {
      "text/plain": [
       "1"
      ]
     },
     "execution_count": 36,
     "metadata": {},
     "output_type": "execute_result"
    }
   ],
   "source": [
    "6 % 5"
   ]
  },
  {
   "cell_type": "code",
   "execution_count": 38,
   "id": "f0e36d68",
   "metadata": {},
   "outputs": [
    {
     "data": {
      "text/plain": [
       "False"
      ]
     },
     "execution_count": 38,
     "metadata": {},
     "output_type": "execute_result"
    }
   ],
   "source": [
    "5 < 4 and 1 == 1"
   ]
  },
  {
   "cell_type": "code",
   "execution_count": 40,
   "id": "b71b1b94",
   "metadata": {},
   "outputs": [
    {
     "data": {
      "text/plain": [
       "False"
      ]
     },
     "execution_count": 40,
     "metadata": {},
     "output_type": "execute_result"
    }
   ],
   "source": [
    "'codeup' == 'codeup' and 'codeup' == 'Codeup'"
   ]
  },
  {
   "cell_type": "code",
   "execution_count": 42,
   "id": "429168f0",
   "metadata": {},
   "outputs": [
    {
     "ename": "SyntaxError",
     "evalue": "invalid syntax (383778220.py, line 1)",
     "output_type": "error",
     "traceback": [
      "\u001b[0;36m  Cell \u001b[0;32mIn[42], line 1\u001b[0;36m\u001b[0m\n\u001b[0;31m    4 >= 0 and 1 !== '1'\u001b[0m\n\u001b[0m                   ^\u001b[0m\n\u001b[0;31mSyntaxError\u001b[0m\u001b[0;31m:\u001b[0m invalid syntax\n"
     ]
    }
   ],
   "source": [
    "4 >= 0 and 1 !== '1'"
   ]
  },
  {
   "cell_type": "code",
   "execution_count": 44,
   "id": "5a37e168",
   "metadata": {},
   "outputs": [
    {
     "data": {
      "text/plain": [
       "True"
      ]
     },
     "execution_count": 44,
     "metadata": {},
     "output_type": "execute_result"
    }
   ],
   "source": [
    "6 % 3 == 0"
   ]
  },
  {
   "cell_type": "code",
   "execution_count": 46,
   "id": "5e3a303c",
   "metadata": {},
   "outputs": [
    {
     "data": {
      "text/plain": [
       "True"
      ]
     },
     "execution_count": 46,
     "metadata": {},
     "output_type": "execute_result"
    }
   ],
   "source": [
    "5 % 2 != 0"
   ]
  },
  {
   "cell_type": "code",
   "execution_count": 47,
   "id": "52d83136",
   "metadata": {},
   "outputs": [
    {
     "ename": "TypeError",
     "evalue": "can only concatenate list (not \"int\") to list",
     "output_type": "error",
     "traceback": [
      "\u001b[0;31m---------------------------------------------------------------------------\u001b[0m",
      "\u001b[0;31mTypeError\u001b[0m                                 Traceback (most recent call last)",
      "Cell \u001b[0;32mIn[47], line 1\u001b[0m\n\u001b[0;32m----> 1\u001b[0m [\u001b[38;5;241m1\u001b[39m] \u001b[38;5;241m+\u001b[39m \u001b[38;5;241m2\u001b[39m\n",
      "\u001b[0;31mTypeError\u001b[0m: can only concatenate list (not \"int\") to list"
     ]
    }
   ],
   "source": [
    "[1] + 2"
   ]
  },
  {
   "cell_type": "code",
   "execution_count": 48,
   "id": "8fa3a1d7",
   "metadata": {},
   "outputs": [
    {
     "data": {
      "text/plain": [
       "[1, 2]"
      ]
     },
     "execution_count": 48,
     "metadata": {},
     "output_type": "execute_result"
    }
   ],
   "source": [
    "[1] + [2]"
   ]
  },
  {
   "cell_type": "code",
   "execution_count": 50,
   "id": "df6b20be",
   "metadata": {},
   "outputs": [
    {
     "data": {
      "text/plain": [
       "[1, 1]"
      ]
     },
     "execution_count": 50,
     "metadata": {},
     "output_type": "execute_result"
    }
   ],
   "source": [
    "[1] * 2"
   ]
  },
  {
   "cell_type": "code",
   "execution_count": 51,
   "id": "cb7d5aa6",
   "metadata": {},
   "outputs": [
    {
     "ename": "TypeError",
     "evalue": "can't multiply sequence by non-int of type 'list'",
     "output_type": "error",
     "traceback": [
      "\u001b[0;31m---------------------------------------------------------------------------\u001b[0m",
      "\u001b[0;31mTypeError\u001b[0m                                 Traceback (most recent call last)",
      "Cell \u001b[0;32mIn[51], line 1\u001b[0m\n\u001b[0;32m----> 1\u001b[0m [\u001b[38;5;241m1\u001b[39m] \u001b[38;5;241m*\u001b[39m [\u001b[38;5;241m2\u001b[39m]\n",
      "\u001b[0;31mTypeError\u001b[0m: can't multiply sequence by non-int of type 'list'"
     ]
    }
   ],
   "source": [
    "[1] * [2]"
   ]
  },
  {
   "cell_type": "code",
   "execution_count": 53,
   "id": "f6c075fc",
   "metadata": {},
   "outputs": [
    {
     "data": {
      "text/plain": [
       "True"
      ]
     },
     "execution_count": 53,
     "metadata": {},
     "output_type": "execute_result"
    }
   ],
   "source": [
    "[] + [] == []"
   ]
  },
  {
   "cell_type": "code",
   "execution_count": 85,
   "id": "676f02fa",
   "metadata": {},
   "outputs": [
    {
     "ename": "TypeError",
     "evalue": "unsupported operand type(s) for +: 'dict' and 'dict'",
     "output_type": "error",
     "traceback": [
      "\u001b[0;31m---------------------------------------------------------------------------\u001b[0m",
      "\u001b[0;31mTypeError\u001b[0m                                 Traceback (most recent call last)",
      "Cell \u001b[0;32mIn[85], line 1\u001b[0m\n\u001b[0;32m----> 1\u001b[0m {} \u001b[38;5;241m+\u001b[39m {}\n",
      "\u001b[0;31mTypeError\u001b[0m: unsupported operand type(s) for +: 'dict' and 'dict'"
     ]
    }
   ],
   "source": [
    "{} + {}"
   ]
  },
  {
   "cell_type": "markdown",
   "id": "a8098003",
   "metadata": {},
   "source": [
    "Describe the following scenarios. You will need to create and assign variables and use operators."
   ]
  },
  {
   "cell_type": "markdown",
   "id": "125c871d",
   "metadata": {},
   "source": [
    "4. You have rented some movies for your kids:\n",
    "The Little Mermaid for 3 days Brother Bear for 5 days Hercules for 1 day If the daily fee to rent a movie is 3 dollars, how much will you have to pay?"
   ]
  },
  {
   "cell_type": "code",
   "execution_count": 74,
   "id": "d4957855",
   "metadata": {},
   "outputs": [
    {
     "name": "stdout",
     "output_type": "stream",
     "text": [
      "27\n"
     ]
    }
   ],
   "source": [
    "#The_Little_Mermaid = 3\n",
    "#Brother_Bear = 3\n",
    "#Hercules = 3\n",
    "#print(3 * (The_Little_Mermaid) + 5 * (Brother_Bear) + 1 * (Hercules))\n",
    "\n",
    "daily_rental_fee = 3\n",
    "TLM_days = 3\n",
    "BB_days = 5\n",
    "H_days = 1\n",
    "TLM_cost = (TLM_days * daily_rental_fee)\n",
    "BB_cost = (BB_days * daily_rental_fee)\n",
    "H_cost = (H_days * daily_rental_fee)\n",
    "total = (TLM_cost + BB_cost + H_cost)\n",
    "print(total)"
   ]
  },
  {
   "cell_type": "markdown",
   "id": "f8b48b03",
   "metadata": {},
   "source": [
    "5. Suppose you're working as a contractor for 3 companies: Google, Amazon and Facebook.\n",
    "They pay you the following hourly rates:\n",
    "Google: 400 dollars Amazon: 380 dollars Facebook: 350 dollars This week you worked: 10 hours for Facebook, 6 hours for Google, and 4 hours for Amazon.\n",
    "How much will you receive in payment for this week?"
   ]
  },
  {
   "cell_type": "code",
   "execution_count": 69,
   "id": "37b0782c",
   "metadata": {},
   "outputs": [
    {
     "name": "stdout",
     "output_type": "stream",
     "text": [
      "7420\n"
     ]
    }
   ],
   "source": [
    "google_hourly_rate = 400\n",
    "facebook_hourly_rate = 350\n",
    "amazon_hourly_rate = 380\n",
    "g_hours_worked = 6\n",
    "f_hours_worked = 10\n",
    "a_hours_worked = 4\n",
    "gpay = (google_hourly_rate * g_hours_worked)\n",
    "fpay = (facebook_hourly_rate * f_hours_worked)\n",
    "apay = (amazon_hourly_rate * a_hours_worked)\n",
    "total_pay = gpay + fpay + apay\n",
    "print(total_pay)"
   ]
  },
  {
   "cell_type": "markdown",
   "id": "f73177a9",
   "metadata": {},
   "source": [
    "6. A student can be enrolled in a class only if the class is not full and the class schedule does not conflict with her current schedule."
   ]
  },
  {
   "cell_type": "code",
   "execution_count": null,
   "id": "d5cfbfc6",
   "metadata": {},
   "outputs": [],
   "source": [
    "# Define class variables\n",
    "class_capacity = 20  # Maximum class capacity\n",
    "current_schedule = [\"Math\", \"History\", \"Science\"]  # Student's current schedule\n",
    "desired_class = \"Art\"  # The class the student wants to enroll in\n",
    "class_schedule = [\"Math\", \"Art\", \"English\"]  # Schedule for the desired class\n",
    "\n",
    "# Check if the class is not full and the schedule does not conflict\n",
    "if len(current_schedule) < class_capacity and not any(course in current_schedule for course in class_schedule):\n",
    "    print(\"You can enroll in the\", desired_class, \"class.\")\n",
    "else:\n",
    "    print(\"Sorry, you cannot enroll in the\", desired_class, \"class due to class capacity or schedule conflicts.\")\n"
   ]
  },
  {
   "cell_type": "markdown",
   "id": "be0bca91",
   "metadata": {},
   "source": [
    "7. A product offer can be applied only if a customer buys more than 2 items, and the offer has not expired. Premium members do not need to buy a specific amount of products."
   ]
  },
  {
   "cell_type": "code",
   "execution_count": 84,
   "id": "11b6f85d",
   "metadata": {},
   "outputs": [
    {
     "name": "stdout",
     "output_type": "stream",
     "text": [
      "Product offer cannot be applied\n"
     ]
    }
   ],
   "source": [
    "is_premium_member = False\n",
    "offer_valid = True\n",
    "items_purchased = 1\n",
    "\n",
    "if is_premium_member or (items_purchased >= 2 and offer_valid):\n",
    "    print('Product offer can be applied')\n",
    "else:\n",
    "    print('Product offer cannot be applied')"
   ]
  },
  {
   "cell_type": "markdown",
   "id": "c06f0361",
   "metadata": {},
   "source": [
    "8. Use the following code to follow the instructions below:\n",
    "username = 'codeup' password = 'notastrongpassword' Create a variable that holds a boolean value for each of the following conditions:\n",
    "The password must be at least 5 characters The username must be no more than 20 characters The password must not be the same as the username "
   ]
  },
  {
   "cell_type": "code",
   "execution_count": 86,
   "id": "e0c7df2f",
   "metadata": {},
   "outputs": [
    {
     "name": "stdout",
     "output_type": "stream",
     "text": [
      "Is the password 5 characters or longer? True\n",
      "Is username 20 characters or less? True\n",
      "Is username the same as the password? True\n"
     ]
    }
   ],
   "source": [
    "username = 'codeup'\n",
    "password = 'notastrongpassword'\n",
    "\n",
    "is_password_length_valid = len(password) >= 5\n",
    "is_username_length_valid = len(username) <= 20\n",
    "is_username_same_as_pass = username != password\n",
    "\n",
    "print(\"Is the password 5 characters or longer?\", is_password_length_valid)\n",
    "print(\"Is username 20 characters or less?\", is_username_length_valid)\n",
    "print(\"Is username the same as the password?\", is_username_same_as_pass)"
   ]
  },
  {
   "cell_type": "markdown",
   "id": "dadf56e5",
   "metadata": {},
   "source": [
    "Bonus Neither the username or password can start nor end with whitespace"
   ]
  },
  {
   "cell_type": "code",
   "execution_count": 88,
   "id": "23f53430",
   "metadata": {},
   "outputs": [
    {
     "name": "stdout",
     "output_type": "stream",
     "text": [
      "Is the password 5 characters or longer? True\n",
      "Is username 20 characters or less? True\n",
      "Is username the same as the password? True\n",
      "Is there white space in the username? codeup\n",
      "Is there white space in the password? notastrongpassword\n"
     ]
    }
   ],
   "source": [
    "username = 'codeup'\n",
    "password = 'notastrongpassword'\n",
    "\n",
    "is_password_length_valid = len(password) >= 5\n",
    "is_username_length_valid = len(username) <= 20\n",
    "is_username_same_as_pass = username != password\n",
    "white_space_in_username = username.strip()\n",
    "white_space_in_password = password.strip()\n",
    "\n",
    "print(\"Is the password 5 characters or longer?\", is_password_length_valid)\n",
    "print(\"Is username 20 characters or less?\", is_username_length_valid)\n",
    "print(\"Is username the same as the password?\", is_username_same_as_pass)\n",
    "print(\"Is there white space in the username?\", white_space_in_username)\n",
    "print(\"Is there white space in the password?\", white_space_in_password)"
   ]
  }
 ],
 "metadata": {
  "kernelspec": {
   "display_name": "Python 3 (ipykernel)",
   "language": "python",
   "name": "python3"
  },
  "language_info": {
   "codemirror_mode": {
    "name": "ipython",
    "version": 3
   },
   "file_extension": ".py",
   "mimetype": "text/x-python",
   "name": "python",
   "nbconvert_exporter": "python",
   "pygments_lexer": "ipython3",
   "version": "3.11.5"
  }
 },
 "nbformat": 4,
 "nbformat_minor": 5
}
