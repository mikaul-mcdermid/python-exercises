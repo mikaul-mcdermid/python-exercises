{
 "cells": [
  {
   "cell_type": "code",
   "execution_count": 29,
   "id": "adb8d326",
   "metadata": {},
   "outputs": [],
   "source": [
    "import json\n",
    "\n",
    "profiles = json.load(open('profiles.json'))"
   ]
  },
  {
   "cell_type": "code",
   "execution_count": 31,
   "id": "3ff37d8d",
   "metadata": {},
   "outputs": [
    {
     "data": {
      "text/plain": [
       "19"
      ]
     },
     "execution_count": 31,
     "metadata": {},
     "output_type": "execute_result"
    }
   ],
   "source": [
    "len(profiles)"
   ]
  },
  {
   "cell_type": "code",
   "execution_count": 32,
   "id": "0e1c5f7d",
   "metadata": {},
   "outputs": [],
   "source": [
    "count = 0\n",
    "\n",
    "for profile in profiles:\n",
    "    if profile['isActive'] == True:\n",
    "               count +=1\n",
    "    "
   ]
  },
  {
   "cell_type": "code",
   "execution_count": 33,
   "id": "1e47641a",
   "metadata": {},
   "outputs": [
    {
     "data": {
      "text/plain": [
       "'$2,097.02'"
      ]
     },
     "execution_count": 33,
     "metadata": {},
     "output_type": "execute_result"
    }
   ],
   "source": [
    "profiles[0]['balance']"
   ]
  },
  {
   "cell_type": "code",
   "execution_count": 46,
   "id": "8c65a39e",
   "metadata": {},
   "outputs": [
    {
     "data": {
      "text/plain": [
       "52667.02"
      ]
     },
     "execution_count": 46,
     "metadata": {},
     "output_type": "execute_result"
    }
   ],
   "source": [
    "#can use string methods\n",
    "\n",
    "#initial empty value to add what I want to keep\n",
    "\n",
    "grand_total = 0\n",
    "\n",
    "for profile in profiles:\n",
    "    #removing non alphabetical characters\n",
    "    clean_balance = profile['balance'].replace('$','').replace(',','')\n",
    "    clean_balance = float(clean_balance) #casting as a float to keep decimal precision\n",
    "    \n",
    "    grand_total +=clean_balance\n",
    "grand_total"
   ]
  },
  {
   "cell_type": "code",
   "execution_count": 109,
   "id": "7405d219",
   "metadata": {},
   "outputs": [
    {
     "ename": "ModuleNotFoundError",
     "evalue": "No module named 'function_exercises'",
     "output_type": "error",
     "traceback": [
      "\u001b[0;31m---------------------------------------------------------------------------\u001b[0m",
      "\u001b[0;31mModuleNotFoundError\u001b[0m                       Traceback (most recent call last)",
      "Cell \u001b[0;32mIn[109], line 4\u001b[0m\n\u001b[1;32m      1\u001b[0m \u001b[38;5;66;03m#using predefined functions\u001b[39;00m\n\u001b[1;32m      3\u001b[0m \u001b[38;5;28;01mimport\u001b[39;00m \u001b[38;5;21;01mimportlib\u001b[39;00m \u001b[38;5;66;03m#allows us to make adjustments to functions without restarting kernel\u001b[39;00m\n\u001b[0;32m----> 4\u001b[0m \u001b[38;5;28;01mfrom\u001b[39;00m \u001b[38;5;21;01mfunction_exercises\u001b[39;00m \u001b[38;5;28;01mimport\u001b[39;00m handle_commas\n\u001b[1;32m      6\u001b[0m importlib\u001b[38;5;241m.\u001b[39mreload(function_exercises)\n\u001b[1;32m      8\u001b[0m grand_total \u001b[38;5;241m=\u001b[39m \u001b[38;5;241m0\u001b[39m\n",
      "\u001b[0;31mModuleNotFoundError\u001b[0m: No module named 'function_exercises'"
     ]
    }
   ],
   "source": [
    "#using predefined functions\n",
    "\n",
    "import importlib #allows us to make adjustments to functions without restarting kernel\n",
    "from function_exercises import handle_commas\n",
    "\n",
    "importlib.reload(function_exercises)\n",
    "\n",
    "grand_total = 0\n",
    "for profile in profiles:\n",
    "    grand_total+= handle_commas(profile['balance'])\n",
    "grand_total"
   ]
  },
  {
   "cell_type": "code",
   "execution_count": 50,
   "id": "ad07c5ab",
   "metadata": {
    "scrolled": true
   },
   "outputs": [
    {
     "data": {
      "text/plain": [
       "2393.96"
      ]
     },
     "execution_count": 50,
     "metadata": {},
     "output_type": "execute_result"
    }
   ],
   "source": [
    "round(grand_total / len(profile),2)"
   ]
  },
  {
   "cell_type": "code",
   "execution_count": 69,
   "id": "1b6978bc",
   "metadata": {},
   "outputs": [
    {
     "data": {
      "text/plain": [
       "['2097.02',\n",
       " '3654.02',\n",
       " '1536.02',\n",
       " '3919.64',\n",
       " '3681.39',\n",
       " '1694.42',\n",
       " '1214.10',\n",
       " '2930.31',\n",
       " '1944.15',\n",
       " '2839.22',\n",
       " '2467.31',\n",
       " '3304.99',\n",
       " '3844.42',\n",
       " '3594.99',\n",
       " '2940.24',\n",
       " '3062.41',\n",
       " '3067.82',\n",
       " '2646.76',\n",
       " '2227.79']"
      ]
     },
     "execution_count": 69,
     "metadata": {},
     "output_type": "execute_result"
    }
   ],
   "source": [
    "#create a list of all balances\n",
    "balance_list = [x['balance'].strip('$').replace(',','') for x in profiles]\n",
    "balance_list"
   ]
  },
  {
   "cell_type": "code",
   "execution_count": 101,
   "id": "b5e3c4a4",
   "metadata": {},
   "outputs": [
    {
     "data": {
      "text/plain": [
       "'1214.10'"
      ]
     },
     "execution_count": 101,
     "metadata": {},
     "output_type": "execute_result"
    }
   ],
   "source": [
    "min_balanace = min(balance_list)\n",
    "min_balanace"
   ]
  },
  {
   "cell_type": "code",
   "execution_count": 114,
   "id": "2038beaa",
   "metadata": {},
   "outputs": [],
   "source": [
    "for profile in profiles:\n",
    "    clean_balance = profile['balance'].strip('$').replace(',','')\n",
    "    clean_balance = float(clean_balance)\n",
    "    if clean_balance == min(balance_list):\n",
    "        print(profile['name'], clean_balance)\n",
    "        \n",
    "    "
   ]
  },
  {
   "cell_type": "code",
   "execution_count": 115,
   "id": "e1b23c0b",
   "metadata": {},
   "outputs": [],
   "source": [
    "for profile in profiles:\n",
    "    clean_balance = profile['balance'].strip('$').replace(',','')\n",
    "    clean_balance = float(clean_balance)\n",
    "    if clean_balance == max(balance_list):\n",
    "        print(profile['name'], clean_balance)\n",
    "        \n",
    "    "
   ]
  },
  {
   "cell_type": "code",
   "execution_count": 117,
   "id": "a3a6893e",
   "metadata": {},
   "outputs": [
    {
     "data": {
      "text/plain": [
       "'strawberry'"
      ]
     },
     "execution_count": 117,
     "metadata": {},
     "output_type": "execute_result"
    }
   ],
   "source": [
    "profiles[0]['favoriteFruit']"
   ]
  },
  {
   "cell_type": "code",
   "execution_count": 120,
   "id": "1a3f56f6",
   "metadata": {},
   "outputs": [
    {
     "data": {
      "text/plain": [
       "['strawberry',\n",
       " 'apple',\n",
       " 'apple',\n",
       " 'banana',\n",
       " 'apple',\n",
       " 'apple',\n",
       " 'banana',\n",
       " 'strawberry',\n",
       " 'strawberry',\n",
       " 'banana',\n",
       " 'strawberry',\n",
       " 'strawberry',\n",
       " 'apple',\n",
       " 'strawberry',\n",
       " 'strawberry',\n",
       " 'banana',\n",
       " 'strawberry',\n",
       " 'apple',\n",
       " 'strawberry']"
      ]
     },
     "execution_count": 120,
     "metadata": {},
     "output_type": "execute_result"
    }
   ],
   "source": [
    "fruit_ls = []\n",
    "\n",
    "for profile in profiles:\n",
    "    fruit_ls.append(profile['favoriteFruit'])\n",
    "fruit_ls"
   ]
  },
  {
   "cell_type": "code",
   "execution_count": 124,
   "id": "2a108ba9",
   "metadata": {},
   "outputs": [
    {
     "data": {
      "text/plain": [
       "{'apple', 'banana', 'strawberry'}"
      ]
     },
     "execution_count": 124,
     "metadata": {},
     "output_type": "execute_result"
    }
   ],
   "source": [
    "# set gives unique values\n",
    "set(fruit_ls)"
   ]
  },
  {
   "cell_type": "code",
   "execution_count": 127,
   "id": "cbe29c7a",
   "metadata": {},
   "outputs": [
    {
     "data": {
      "text/plain": [
       "6"
      ]
     },
     "execution_count": 127,
     "metadata": {},
     "output_type": "execute_result"
    }
   ],
   "source": [
    "fruit_ls.count('apple')"
   ]
  },
  {
   "cell_type": "code",
   "execution_count": 129,
   "id": "1f1bcb82",
   "metadata": {},
   "outputs": [
    {
     "data": {
      "text/plain": [
       "4"
      ]
     },
     "execution_count": 129,
     "metadata": {},
     "output_type": "execute_result"
    }
   ],
   "source": [
    "fruit_ls.count('banana')"
   ]
  },
  {
   "cell_type": "code",
   "execution_count": 131,
   "id": "2e8169f9",
   "metadata": {},
   "outputs": [
    {
     "data": {
      "text/plain": [
       "9"
      ]
     },
     "execution_count": 131,
     "metadata": {},
     "output_type": "execute_result"
    }
   ],
   "source": [
    "fruit_ls.count('strawberry')"
   ]
  },
  {
   "cell_type": "code",
   "execution_count": 133,
   "id": "e8b67cfa",
   "metadata": {},
   "outputs": [
    {
     "data": {
      "text/plain": [
       "strawberry    9\n",
       "apple         6\n",
       "banana        4\n",
       "Name: count, dtype: int64"
      ]
     },
     "execution_count": 133,
     "metadata": {},
     "output_type": "execute_result"
    }
   ],
   "source": [
    "#you don't know this yet... I don't share my skittles young man\n",
    "import pandas as pd\n",
    "\n",
    "#converting to series\n",
    "fruit_ls = pd.Series(fruit_ls)\n",
    "\n",
    "fruit_ls.value_counts()"
   ]
  },
  {
   "cell_type": "code",
   "execution_count": 140,
   "id": "fea56b06",
   "metadata": {},
   "outputs": [
    {
     "data": {
      "text/plain": [
       "{'strawberry': 9, 'apple': 6, 'banana': 4}"
      ]
     },
     "execution_count": 140,
     "metadata": {},
     "output_type": "execute_result"
    }
   ],
   "source": [
    "fruit_dict = {}\n",
    "\n",
    "for profile in profiles:\n",
    "    fruit = profile['favoriteFruit']\n",
    "    \n",
    "    if fruit in fruit_dict:\n",
    "        fruit_dict[fruit] +=1 # increment the count if the fruit is already in the dictionary\n",
    "    else:\n",
    "        fruit_dict[fruit] = 1 #initialize the count to 1 if it's a new fruit\n",
    "        \n",
    "fruit_dict"
   ]
  },
  {
   "cell_type": "code",
   "execution_count": 141,
   "id": "f71be1a0",
   "metadata": {},
   "outputs": [
    {
     "data": {
      "text/plain": [
       "'apple'"
      ]
     },
     "execution_count": 141,
     "metadata": {},
     "output_type": "execute_result"
    }
   ],
   "source": [
    "min(fruit_ls) #wrong cause min calculates alphabetically "
   ]
  },
  {
   "cell_type": "code",
   "execution_count": 142,
   "id": "f2c47896",
   "metadata": {},
   "outputs": [
    {
     "ename": "TypeError",
     "evalue": "Series.count() takes 1 positional argument but 2 were given",
     "output_type": "error",
     "traceback": [
      "\u001b[0;31m---------------------------------------------------------------------------\u001b[0m",
      "\u001b[0;31mTypeError\u001b[0m                                 Traceback (most recent call last)",
      "Cell \u001b[0;32mIn[142], line 1\u001b[0m\n\u001b[0;32m----> 1\u001b[0m \u001b[38;5;28mmin\u001b[39m(fruit_ls, key\u001b[38;5;241m=\u001b[39mfruit_ls\u001b[38;5;241m.\u001b[39mcount)\n",
      "\u001b[0;31mTypeError\u001b[0m: Series.count() takes 1 positional argument but 2 were given"
     ]
    }
   ],
   "source": [
    "min(fruit_ls, key=fruit_ls.count)"
   ]
  },
  {
   "cell_type": "code",
   "execution_count": 144,
   "id": "a728d8cf",
   "metadata": {},
   "outputs": [
    {
     "data": {
      "text/plain": [
       "'Hello, Hebert Estes! You have 4 unread messages.'"
      ]
     },
     "execution_count": 144,
     "metadata": {},
     "output_type": "execute_result"
    }
   ],
   "source": [
    "profiles[0]['greeting']"
   ]
  },
  {
   "cell_type": "code",
   "execution_count": 146,
   "id": "08cc26cc",
   "metadata": {},
   "outputs": [
    {
     "data": {
      "text/plain": [
       "['Hello,', 'Hebert', 'Estes!', 'You', 'have', '4', 'unread', 'messages.']"
      ]
     },
     "execution_count": 146,
     "metadata": {},
     "output_type": "execute_result"
    }
   ],
   "source": [
    "profiles[0]['greeting'].split(' ')"
   ]
  },
  {
   "cell_type": "code",
   "execution_count": 147,
   "id": "35ef17bf",
   "metadata": {},
   "outputs": [
    {
     "data": {
      "text/plain": [
       "210"
      ]
     },
     "execution_count": 147,
     "metadata": {},
     "output_type": "execute_result"
    }
   ],
   "source": [
    "# empty variable to add int to\n",
    "total_unread = 0\n",
    "# looping over individual profiles\n",
    "for profile in profiles:\n",
    "    #storeing split message greeting in a variable\n",
    "    message = profile['greeting'].split()\n",
    "    \n",
    "    #loop over split messgage and look for digitst to add to total_unread\n",
    "    for word in message:\n",
    "        #checking if word is a digit\n",
    "        if word.isdigit():\n",
    "            word = int(word) # casting as int for math calculations\n",
    "            total_unread += word\n",
    "total_unread"
   ]
  }
 ],
 "metadata": {
  "kernelspec": {
   "display_name": "Python 3 (ipykernel)",
   "language": "python",
   "name": "python3"
  },
  "language_info": {
   "codemirror_mode": {
    "name": "ipython",
    "version": 3
   },
   "file_extension": ".py",
   "mimetype": "text/x-python",
   "name": "python",
   "nbconvert_exporter": "python",
   "pygments_lexer": "ipython3",
   "version": "3.11.5"
  }
 },
 "nbformat": 4,
 "nbformat_minor": 5
}
