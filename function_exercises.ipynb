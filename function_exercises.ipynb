{
 "cells": [
  {
   "cell_type": "markdown",
   "id": "6eb70e90",
   "metadata": {},
   "source": [
    "1. Define a function named is_two. It should accept one input and return True if the passed input is either the number or the string 2, False otherwise."
   ]
  },
  {
   "cell_type": "code",
   "execution_count": 4,
   "id": "52774e47",
   "metadata": {},
   "outputs": [
    {
     "data": {
      "text/plain": [
       "True"
      ]
     },
     "execution_count": 4,
     "metadata": {},
     "output_type": "execute_result"
    }
   ],
   "source": [
    "def is_two(n):\n",
    "    if n in (2, '2', 2.0):\n",
    "        return True\n",
    "    else:\n",
    "        return False\n",
    "is_two(4)\n",
    "is_two(2)"
   ]
  },
  {
   "cell_type": "markdown",
   "id": "30bedeb2",
   "metadata": {},
   "source": [
    "2. Define a function named is_vowel. It should return True if the passed string is a vowel, False otherwise."
   ]
  },
  {
   "cell_type": "code",
   "execution_count": 1,
   "id": "535d5833",
   "metadata": {},
   "outputs": [
    {
     "data": {
      "text/plain": [
       "True"
      ]
     },
     "execution_count": 1,
     "metadata": {},
     "output_type": "execute_result"
    }
   ],
   "source": [
    "def is_vowel(letter):\n",
    "    if type(letter) == str:\n",
    "        if letter in('a','A','e','E','i','I','o','O','u','U','y','Y'):\n",
    "            return True\n",
    "        else:\n",
    "            return False\n",
    "    else:\n",
    "        return False\n",
    "is_vowel('e')"
   ]
  },
  {
   "cell_type": "code",
   "execution_count": 42,
   "id": "68f94a96",
   "metadata": {
    "scrolled": true
   },
   "outputs": [
    {
     "name": "stdout",
     "output_type": "stream",
     "text": [
      "Enter a character to test if it's a vowel:b\n",
      "b is not a vowel.\n"
     ]
    }
   ],
   "source": [
    "def is_vowel(letter):\n",
    "    if len(letter) == 1 and letter.isalpha():\n",
    "        letter = letter.lower()\n",
    "        return letter in \"aeiouyAEIOUY\"\n",
    "    else:\n",
    "        return False\n",
    "letter_input = input('Enter a character to test if it\\'s a vowel:\\n')\n",
    "result = is_vowel(letter_input)\n",
    "if result:\n",
    "    print(f'{letter_input} is a vowel.')\n",
    "else:\n",
    "    print(f'{letter_input} is not a vowel.')"
   ]
  },
  {
   "cell_type": "markdown",
   "id": "1a2d71cd",
   "metadata": {},
   "source": [
    "3. Define a function named is_consonant. It should return True if the passed string is a consonant, False otherwise. Use your is_vowel function to accomplish this."
   ]
  },
  {
   "cell_type": "code",
   "execution_count": 44,
   "id": "73c5b997",
   "metadata": {},
   "outputs": [
    {
     "name": "stdout",
     "output_type": "stream",
     "text": [
      "Enter a character to test if it's a consonant:\n",
      "Y\n",
      "Y is a vowel.\n"
     ]
    }
   ],
   "source": [
    "def is_consonant(letter):\n",
    "    if len(letter) == 1 and letter.isalpha():\n",
    "        letter = letter.lower()\n",
    "        return letter not in 'aeiouyAEIOUY'\n",
    "    else:\n",
    "        return False\n",
    "letter_input = input('Enter a character to test if it\\'s a consonant:\\n')\n",
    "result = is_consonant(letter_input)\n",
    "if result:\n",
    "    print(f'{letter_input} is a consonant')\n",
    "else:\n",
    "    print(f'{letter_input} is a vowel.')"
   ]
  },
  {
   "cell_type": "markdown",
   "id": "3b3668c9",
   "metadata": {},
   "source": [
    "4. Define a function that accepts a string that is a word. The function should capitalize the first letter of the word if the word starts with a consonant."
   ]
  },
  {
   "cell_type": "code",
   "execution_count": 51,
   "id": "f93b7a92",
   "metadata": {
    "scrolled": true
   },
   "outputs": [
    {
     "name": "stdout",
     "output_type": "stream",
     "text": [
      "Enter a word:\n",
      "billy\n",
      "Result: Billy\n"
     ]
    }
   ],
   "source": [
    "def uppercase(word):\n",
    "    if word and word[0].isalpha() and word[0].lower() not in 'aeiou':\n",
    "        return word[0].upper() + word[1:]\n",
    "    return word\n",
    "input_word = input('Enter a word:\\n')\n",
    "result = uppercase(input_word)\n",
    "print(f'Result: {result}')"
   ]
  },
  {
   "cell_type": "markdown",
   "id": "bb2d64f2",
   "metadata": {},
   "source": [
    "5. Define a function named calculate_tip. It should accept a tip percentage (a number between 0 and 1) and the bill total, and return the amount to tip."
   ]
  },
  {
   "cell_type": "code",
   "execution_count": 60,
   "id": "d3753326",
   "metadata": {},
   "outputs": [
    {
     "name": "stdout",
     "output_type": "stream",
     "text": [
      "Enter the tip percentage(between 0 and 1: .10\n",
      "Enter the bill total: 50\n",
      "You should tip 5.0.\n"
     ]
    }
   ],
   "source": [
    "def calc_tip(tip_percentage, bill_total):\n",
    "    if 0 <= tip_percentage <= 1:\n",
    "        tip_amount = tip_percentage * bill_total\n",
    "        return tip_amount\n",
    "    else:\n",
    "        return \"Invalid tip percentage. Please enter a value between 0 and 1.\"\n",
    "tip_percentage = float(input('Enter the tip percentage(between 0 and 1: '))\n",
    "bill_total = float(input('Enter the bill total: '))\n",
    "tip = calc_tip(tip_percentage, bill_total)\n",
    "\n",
    "if isinstance(tip, str):\n",
    "    print(tip)\n",
    "else:\n",
    "    print(f'You should tip {tip}.')"
   ]
  },
  {
   "cell_type": "markdown",
   "id": "2f202c23",
   "metadata": {},
   "source": [
    "6. Define a function named apply_discount. It should accept a original price, and a discount percentage, and return the price after the discount is applied."
   ]
  },
  {
   "cell_type": "code",
   "execution_count": 73,
   "id": "4f12345e",
   "metadata": {},
   "outputs": [
    {
     "name": "stdout",
     "output_type": "stream",
     "text": [
      "How much did the item cost? $100\n",
      "What was the discount? 10\n",
      "Your total price after a 10.0% discount is $90.00\n"
     ]
    }
   ],
   "source": [
    "def apply_discount(price, discount_percentage):\n",
    "    if 0 <= discount_percentage <= 100:\n",
    "        discount = discount_percentage / 100\n",
    "        discounted_price = price - (price * discount)\n",
    "        return discounted_price\n",
    "    else:\n",
    "        return \"Invalid tip percentage. Please enter a value between 0 and 100%.\"\n",
    "price = float(input('How much did the item cost? $'))\n",
    "discount = float(input('What was the discount? '))\n",
    "result = apply_discount(price, discount)\n",
    "\n",
    "if isinstance(result, str):\n",
    "    print(result)\n",
    "else:\n",
    "    print(f'Your total price after a {discount}% discount is ${result:.2f}')"
   ]
  },
  {
   "cell_type": "markdown",
   "id": "84cb931e",
   "metadata": {},
   "source": [
    "7. Define a function named handle_commas. It should accept a string that is a number that contains commas in it as input, and return a number as output.\n"
   ]
  },
  {
   "cell_type": "code",
   "execution_count": 3,
   "id": "3a9e07e1",
   "metadata": {},
   "outputs": [
    {
     "name": "stdout",
     "output_type": "stream",
     "text": [
      "Enter a number with commas: hkl\n",
      "Invalid input. Please enter a number with or without commas.\n"
     ]
    }
   ],
   "source": [
    "def handle_commas(number_str):\n",
    "    number_str = number_str.replace(',','')\n",
    "    \n",
    "    if number_str.replace(',','',1).isdigit():\n",
    "        number = float(number_str)\n",
    "        return number\n",
    "    else: return \"Invalid input. Please enter a number with or without commas.\"\n",
    "number_with_commas = input('Enter a number with commas: ')\n",
    "result = handle_commas(number_with_commas)\n",
    "\n",
    "if isinstance(result, str):\n",
    "    print(result)\n",
    "else: print(f'Number without commas: {result}')\n",
    "    \n",
    "    "
   ]
  },
  {
   "cell_type": "code",
   "execution_count": null,
   "id": "76061d4a",
   "metadata": {},
   "outputs": [],
   "source": [
    "def handle_commas(number_str):\n",
    "    # Remove commas from the input string\n",
    "    number_str = number_str.replace(',', '')\n",
    "\n",
    "    # Check if the modified string can be converted to a number\n",
    "    if number_str.replace('.', '', 1).isdigit():\n",
    "        number = float(number_str)\n",
    "        return number\n",
    "    else:\n",
    "        return \"Invalid input. Please enter a number with or without commas.\"\n",
    "\n",
    "# Example usage:\n",
    "number_with_commas = input(\"Enter a number with commas: \")\n",
    "result = handle_commas(number_with_commas)\n",
    "\n",
    "if isinstance(result, str):\n",
    "    print(result)\n",
    "else:\n",
    "    print(f\"Number without commas: {result}\")\n"
   ]
  },
  {
   "cell_type": "markdown",
   "id": "7825a738",
   "metadata": {},
   "source": [
    "8. Define a function named get_letter_grade. It should accept a number and return the letter grade associated with that number (A-F)."
   ]
  },
  {
   "cell_type": "code",
   "execution_count": 81,
   "id": "385d7c39",
   "metadata": {},
   "outputs": [
    {
     "name": "stdout",
     "output_type": "stream",
     "text": [
      "Enter your numerical grade score: 57\n",
      "F\n"
     ]
    }
   ],
   "source": [
    "def get_letter_grade(score):\n",
    "    if 90 <= score <= 100:\n",
    "        return 'A'\n",
    "    elif 80 <= score < 90:\n",
    "        return 'B'\n",
    "    elif 70 <= score < 80:\n",
    "        return 'C'\n",
    "    elif 60 <= score < 70:\n",
    "        return 'D'\n",
    "    elif 0 <= score < 60:\n",
    "        return 'F'\n",
    "    else:\n",
    "        return 'Invalid score, please enter a value between 0 and 100 to receive your letter grade.'\n",
    "    \n",
    "score = float(input(\"Enter your numerical grade score: \"))\n",
    "letter_grade = get_letter_grade(score)\n",
    "\n",
    "if isinstance(letter_grade, str):\n",
    "    print(letter_grade)\n",
    "else:\n",
    "    print(f'Your letter grade is {letter_grade}')"
   ]
  },
  {
   "cell_type": "markdown",
   "id": "40b325a2",
   "metadata": {},
   "source": [
    "9. Define a function named remove_vowels that accepts a string and returns a string with all the vowels removed."
   ]
  },
  {
   "cell_type": "code",
   "execution_count": 4,
   "id": "2ee3bebf",
   "metadata": {},
   "outputs": [
    {
     "name": "stdout",
     "output_type": "stream",
     "text": [
      "Enter a string: Mikaul\n",
      "String without vowels: Mkl\n"
     ]
    }
   ],
   "source": [
    "def remove_vowels(input_string):\n",
    "    vowels = \"AEIOUaeiou\"\n",
    "    result_string = \"\".join(char for char in input_string if char not in vowels)\n",
    "    return result_string\n",
    "\n",
    "# Example usage:\n",
    "input_string = input(\"Enter a string: \")\n",
    "string_without_vowels = remove_vowels(input_string)\n",
    "print(f\"String without vowels: {string_without_vowels}\")\n"
   ]
  },
  {
   "cell_type": "markdown",
   "id": "a943bce3",
   "metadata": {},
   "source": [
    "10. Define a function named normalize_name. It should accept a string and return a valid python identifier, that is:\n",
    "anything that is not a valid python identifier should be removed\n",
    "leading and trailing whitespace should be removed\n",
    "everything should be lowercase\n",
    "spaces should be replaced with underscores\n",
    "for example:\n",
    "Name will become name\n",
    "First Name will become first_name\n",
    "% Completed will become completed"
   ]
  },
  {
   "cell_type": "code",
   "execution_count": 82,
   "id": "59468f6e",
   "metadata": {},
   "outputs": [
    {
     "name": "stdout",
     "output_type": "stream",
     "text": [
      "Enter a string: Billy Mark\n",
      "Normalized name: billy_mark\n"
     ]
    }
   ],
   "source": [
    "def normalize_name(input_string):\n",
    "    # Remove whitespace, convert to lowercase, and replace spaces with underscores\n",
    "    normalized = input_string.strip().lower().replace(\" \", \"_\")\n",
    "\n",
    "    # Remove characters that are not valid in a Python identifier\n",
    "    normalized = ''.join(char for char in normalized if char.isidentifier())\n",
    "\n",
    "    return normalized\n",
    "\n",
    "# Example usage:\n",
    "input_string = input(\"Enter a string: \")\n",
    "normalized_name = normalize_name(input_string)\n",
    "print(f\"Normalized name: {normalized_name}\")\n"
   ]
  },
  {
   "cell_type": "markdown",
   "id": "b02e57ff",
   "metadata": {},
   "source": [
    "11. Write a function named cumulative_sum that accepts a list of numbers and returns a list that is the cumulative sum of the numbers in the list.\n",
    "cumulative_sum([1, 1, 1]) returns [1, 2, 3]\n",
    "cumulative_sum([1, 2, 3, 4]) returns [1, 3, 6, 10]"
   ]
  },
  {
   "cell_type": "code",
   "execution_count": 5,
   "id": "392370d4",
   "metadata": {},
   "outputs": [],
   "source": [
    "def cumulative_sum(oldlist):\n",
    "    newlist =[]\n",
    "    #initialize a variable to store the cumulative sum\n",
    "    c_sum = 0\n",
    "    for num in oldlist:\n",
    "        #add the current number to the cumulative sum\n",
    "        c_sum += num\n",
    "        print(f'cumulative: {c_sum}')\n",
    "        #append the cumulative sum to the new list\n",
    "        newlist.append(c_sum)\n",
    "        print(f'newlist: {newlist}')"
   ]
  }
 ],
 "metadata": {
  "kernelspec": {
   "display_name": "Python 3 (ipykernel)",
   "language": "python",
   "name": "python3"
  },
  "language_info": {
   "codemirror_mode": {
    "name": "ipython",
    "version": 3
   },
   "file_extension": ".py",
   "mimetype": "text/x-python",
   "name": "python",
   "nbconvert_exporter": "python",
   "pygments_lexer": "ipython3",
   "version": "3.11.5"
  }
 },
 "nbformat": 4,
 "nbformat_minor": 5
}
