{
 "cells": [
  {
   "cell_type": "markdown",
   "id": "97c54148",
   "metadata": {},
   "source": [
    "esc enters command mode, then m allows you to enter markdown mode for comments"
   ]
  },
  {
   "cell_type": "markdown",
   "id": "2c4e9264",
   "metadata": {},
   "source": [
    "shift + enter goes to a new line"
   ]
  },
  {
   "cell_type": "code",
   "execution_count": 3,
   "id": "9232d5f4",
   "metadata": {},
   "outputs": [],
   "source": [
    "x=1"
   ]
  },
  {
   "cell_type": "code",
   "execution_count": 4,
   "id": "ff591a99",
   "metadata": {},
   "outputs": [
    {
     "name": "stdout",
     "output_type": "stream",
     "text": [
      "-2\n"
     ]
    }
   ],
   "source": [
    "print(x-3)"
   ]
  },
  {
   "cell_type": "code",
   "execution_count": null,
   "id": "59c81c03",
   "metadata": {},
   "outputs": [],
   "source": []
  },
  {
   "cell_type": "code",
   "execution_count": null,
   "id": "fb40a3b1",
   "metadata": {},
   "outputs": [],
   "source": []
  },
  {
   "cell_type": "markdown",
   "id": "8e2ad326",
   "metadata": {},
   "source": [
    "option + enter makes a new line without running the code"
   ]
  }
 ],
 "metadata": {
  "kernelspec": {
   "display_name": "Python 3 (ipykernel)",
   "language": "python",
   "name": "python3"
  },
  "language_info": {
   "codemirror_mode": {
    "name": "ipython",
    "version": 3
   },
   "file_extension": ".py",
   "mimetype": "text/x-python",
   "name": "python",
   "nbconvert_exporter": "python",
   "pygments_lexer": "ipython3",
   "version": "3.11.5"
  }
 },
 "nbformat": 4,
 "nbformat_minor": 5
}
