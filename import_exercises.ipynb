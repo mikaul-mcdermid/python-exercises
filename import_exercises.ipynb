{
 "cells": [
  {
   "cell_type": "code",
   "execution_count": 46,
   "id": "0e365c12",
   "metadata": {},
   "outputs": [],
   "source": [
    "from functions_exercises import get_letter_grade as glg"
   ]
  },
  {
   "cell_type": "code",
   "execution_count": 47,
   "id": "874340d0",
   "metadata": {},
   "outputs": [
    {
     "data": {
      "text/plain": [
       "str"
      ]
     },
     "execution_count": 47,
     "metadata": {},
     "output_type": "execute_result"
    }
   ],
   "source": [
    "type(glg(87))"
   ]
  },
  {
   "cell_type": "code",
   "execution_count": 48,
   "id": "920bbac8",
   "metadata": {},
   "outputs": [
    {
     "data": {
      "text/plain": [
       "'B'"
      ]
     },
     "execution_count": 48,
     "metadata": {},
     "output_type": "execute_result"
    }
   ],
   "source": [
    "glg(87)"
   ]
  },
  {
   "cell_type": "code",
   "execution_count": 49,
   "id": "5c1b71b8",
   "metadata": {},
   "outputs": [
    {
     "name": "stdout",
     "output_type": "stream",
     "text": [
      "Total combinations: 7\n"
     ]
    }
   ],
   "source": [
    "from itertools import combinations\n",
    "\n",
    "letters = \"abc\"\n",
    "total_combinations = 0\n",
    "\n",
    "for r in range(1, 4):  # Try combinations of length 1, 2, and 3\n",
    "    combinations_list = list(combinations(letters, r))\n",
    "    total_combinations += len(combinations_list)\n",
    "\n",
    "print(\"Total combinations:\", total_combinations)\n"
   ]
  },
  {
   "cell_type": "code",
   "execution_count": 53,
   "id": "f66a1ea1",
   "metadata": {},
   "outputs": [
    {
     "data": {
      "text/plain": [
       "[('a', 1),\n",
       " ('a', 2),\n",
       " ('a', 3),\n",
       " ('b', 1),\n",
       " ('b', 2),\n",
       " ('b', 3),\n",
       " ('c', 1),\n",
       " ('c', 2),\n",
       " ('c', 3)]"
      ]
     },
     "execution_count": 53,
     "metadata": {},
     "output_type": "execute_result"
    }
   ],
   "source": [
    "from itertools import product\n",
    "list(product('abc',[1,2,3,]))"
   ]
  },
  {
   "cell_type": "code",
   "execution_count": 51,
   "id": "4340cca4",
   "metadata": {},
   "outputs": [
    {
     "name": "stdout",
     "output_type": "stream",
     "text": [
      "Total combinations of 2 letters from 'abcd': 6\n"
     ]
    }
   ],
   "source": [
    "from itertools import combinations\n",
    "\n",
    "letters = \"abcd\"\n",
    "r = 2  # Length of combinations\n",
    "combinations_list = list(combinations(letters, r))\n",
    "total_combinations = len(combinations_list)\n",
    "\n",
    "print(\"Total combinations of 2 letters from 'abcd':\", total_combinations)\n"
   ]
  },
  {
   "cell_type": "code",
   "execution_count": 14,
   "id": "c21c3b8c",
   "metadata": {},
   "outputs": [
    {
     "name": "stdout",
     "output_type": "stream",
     "text": [
      "Total combinations of 2 letters from 'abcd': 6\n"
     ]
    }
   ],
   "source": [
    "from itertools import combinations\n",
    "\n",
    "letters = 'abcd'\n",
    "r = 2 #length of combinations\n",
    "combinations_list = list(combinations(letters, r))\n",
    "total_combinations = len(combinations_list)\n",
    "\n",
    "print('Total combinations of 2 letters from \\'abcd\\':', total_combinations)"
   ]
  },
  {
   "cell_type": "code",
   "execution_count": 27,
   "id": "9d8d95f5",
   "metadata": {},
   "outputs": [
    {
     "name": "stdout",
     "output_type": "stream",
     "text": [
      "Total permutations of 2 letters from 'abcd': 12\n"
     ]
    }
   ],
   "source": [
    "from itertools import permutations\n",
    "\n",
    "letters = 'abcd'\n",
    "r = 2\n",
    "permutations_list = list(permutations(letters, r))\n",
    "total_perms = len(permutations_list)\n",
    "\n",
    "print('Total permutations of 2 letters from \\'abcd\\':', total_perms)"
   ]
  },
  {
   "cell_type": "markdown",
   "id": "3b89dd71",
   "metadata": {},
   "source": [
    "Your code should produce a list of dictionaries. Using this data, write some code that calculates and outputs the following information:\n",
    "\n",
    "Total number of users\n",
    "Number of active users\n",
    "Number of inactive users\n",
    "Grand total of balances for all users\n",
    "Average balance per user\n",
    "User with the lowest balance\n",
    "User with the highest balance\n",
    "Most common favorite fruit\n",
    "Least most common favorite fruit\n",
    "Total number of unread messages for all users"
   ]
  },
  {
   "cell_type": "code",
   "execution_count": 83,
   "id": "d05ccfeb",
   "metadata": {},
   "outputs": [],
   "source": [
    "import json\n",
    "\n",
    "with open('profiles.json', 'r') as file:\n",
    "     profiles = json.load(file)"
   ]
  },
  {
   "cell_type": "code",
   "execution_count": 84,
   "id": "f7469ead",
   "metadata": {},
   "outputs": [
    {
     "data": {
      "text/plain": [
       "{'_id': '54e23c3e46ab53a440b580e8',\n",
       " 'index': 0,\n",
       " 'guid': '9962b468-ef3e-4993-b677-617469bc3008',\n",
       " 'isActive': False,\n",
       " 'balance': '$2,097.02',\n",
       " 'picture': 'http://placehold.it/32x32',\n",
       " 'age': 39,\n",
       " 'eyeColor': 'blue',\n",
       " 'name': 'Hebert Estes',\n",
       " 'gender': 'male',\n",
       " 'company': 'ANDRYX',\n",
       " 'email': 'hebertestes@andryx.com',\n",
       " 'phone': '+1 (866) 456-2268',\n",
       " 'address': '121 Emmons Avenue, Klondike, Kentucky, 5975',\n",
       " 'about': 'Sit cillum deserunt irure laboris tempor fugiat laboris. Amet commodo amet est incididunt. Dolore qui fugiat cillum pariatur dolore excepteur elit ipsum.\\r\\n',\n",
       " 'registered': '2014-11-10T01:44:03 +06:00',\n",
       " 'latitude': -80.157843,\n",
       " 'longitude': 161.93016,\n",
       " 'tags': ['sit', 'occaecat', 'non', 'ea', 'sit', 'laboris', 'exercitation'],\n",
       " 'friends': [{'id': 0, 'name': 'Tanisha Leonard'},\n",
       "  {'id': 1, 'name': 'Dennis Wilson'},\n",
       "  {'id': 2, 'name': 'Lupe Howe'}],\n",
       " 'greeting': 'Hello, Hebert Estes! You have 4 unread messages.',\n",
       " 'favoriteFruit': 'strawberry'}"
      ]
     },
     "execution_count": 84,
     "metadata": {},
     "output_type": "execute_result"
    }
   ],
   "source": [
    "profiles[0] "
   ]
  },
  {
   "cell_type": "code",
   "execution_count": 85,
   "id": "d2199930",
   "metadata": {},
   "outputs": [
    {
     "data": {
      "text/plain": [
       "[1, 2]"
      ]
     },
     "execution_count": 85,
     "metadata": {},
     "output_type": "execute_result"
    }
   ],
   "source": [
    "# how to access a list\n",
    "my_list = [1,2,3,4]\n",
    "\n",
    "# subsetting only 1st to 3rd values non-inclusive\n",
    "my_list[0:2]"
   ]
  },
  {
   "cell_type": "code",
   "execution_count": 86,
   "id": "c7eb1499",
   "metadata": {},
   "outputs": [
    {
     "data": {
      "text/plain": [
       "23"
      ]
     },
     "execution_count": 86,
     "metadata": {},
     "output_type": "execute_result"
    }
   ],
   "source": [
    "# how to access a dictionary\n",
    "my_dict = {'a':0, 'b':23, 'c':4}\n",
    "\n",
    "# indexing by the key \n",
    "my_dict['b']"
   ]
  },
  {
   "cell_type": "code",
   "execution_count": 87,
   "id": "8edf30eb",
   "metadata": {},
   "outputs": [
    {
     "data": {
      "text/plain": [
       "{'name': 'Mark', 'age': 29}"
      ]
     },
     "execution_count": 87,
     "metadata": {},
     "output_type": "execute_result"
    }
   ],
   "source": [
    "# access a list of dictionaries\n",
    "lst_dict = [{'name':'Mark', 'age':29}, {'name':'Eliza Thronberry', 'age':34}]\n",
    "\n",
    "# only returns first dictionary\n",
    "# to access mulitple need to use\n",
    "# a control structure to iterate \n",
    "# over the dictionaires\n",
    "lst_dict[0]"
   ]
  },
  {
   "cell_type": "code",
   "execution_count": 88,
   "id": "6b949cd7",
   "metadata": {},
   "outputs": [
    {
     "name": "stdout",
     "output_type": "stream",
     "text": [
      "Mark 29\n",
      "Eliza Thronberry 34\n"
     ]
    }
   ],
   "source": [
    "# now i can get separate dicitonaries and access their elements individiually\n",
    "for dictionary in lst_dict:\n",
    "    print(dictionary['name'], dictionary['age'])"
   ]
  },
  {
   "cell_type": "code",
   "execution_count": 89,
   "id": "25c7a1af",
   "metadata": {},
   "outputs": [
    {
     "data": {
      "text/plain": [
       "19"
      ]
     },
     "execution_count": 89,
     "metadata": {},
     "output_type": "execute_result"
    }
   ],
   "source": [
    "# 19 total users\n",
    "len(profiles)"
   ]
  },
  {
   "cell_type": "code",
   "execution_count": 90,
   "id": "8e08bd2f",
   "metadata": {},
   "outputs": [
    {
     "data": {
      "text/plain": [
       "9"
      ]
     },
     "execution_count": 90,
     "metadata": {},
     "output_type": "execute_result"
    }
   ],
   "source": [
    "count = 0 \n",
    "\n",
    "for profile in profiles:\n",
    "    if profile['isActive'] == True:\n",
    "        count += 1\n",
    "count\n",
    "# 9 active users"
   ]
  },
  {
   "cell_type": "code",
   "execution_count": 91,
   "id": "9e6d37f7",
   "metadata": {},
   "outputs": [
    {
     "data": {
      "text/plain": [
       "10"
      ]
     },
     "execution_count": 91,
     "metadata": {},
     "output_type": "execute_result"
    }
   ],
   "source": [
    "count = 0 \n",
    "\n",
    "for profile in profiles:\n",
    "    if profile['isActive'] == False:\n",
    "        count += 1\n",
    "count\n",
    "# 10 active users"
   ]
  },
  {
   "cell_type": "code",
   "execution_count": 92,
   "id": "2bc26e87",
   "metadata": {},
   "outputs": [
    {
     "data": {
      "text/plain": [
       "'$2,097.02'"
      ]
     },
     "execution_count": 92,
     "metadata": {},
     "output_type": "execute_result"
    }
   ],
   "source": [
    "profiles[0]['balance']"
   ]
  },
  {
   "cell_type": "code",
   "execution_count": 93,
   "id": "6fd3059c",
   "metadata": {},
   "outputs": [
    {
     "data": {
      "text/plain": [
       "52667.02"
      ]
     },
     "execution_count": 93,
     "metadata": {},
     "output_type": "execute_result"
    }
   ],
   "source": [
    "# using string methods \n",
    "\n",
    "# intitial empty value to add what I want to keep \n",
    "grand_total = 0\n",
    "\n",
    "# looping over individual profiles\n",
    "for profile in profiles:\n",
    "    \n",
    "    # stripping out non alpha characters\n",
    "    clean_balance = profile['balance'].replace('$', '').replace(',', '')\n",
    "    clean_balance = float(clean_balance) # casting to float to keep decimal precision\n",
    "    \n",
    "    grand_total += clean_balance\n",
    "\n",
    "grand_total"
   ]
  },
  {
   "cell_type": "code",
   "execution_count": 101,
   "id": "ad9a8979",
   "metadata": {},
   "outputs": [
    {
     "data": {
      "text/plain": [
       "0.0"
      ]
     },
     "execution_count": 101,
     "metadata": {},
     "output_type": "execute_result"
    }
   ],
   "source": [
    "round(grand_total / len(profiles),2)"
   ]
  },
  {
   "cell_type": "code",
   "execution_count": 102,
   "id": "e3b335f8",
   "metadata": {},
   "outputs": [
    {
     "data": {
      "text/plain": [
       "[2097.02,\n",
       " 3654.02,\n",
       " 1536.02,\n",
       " 3919.64,\n",
       " 3681.39,\n",
       " 1694.42,\n",
       " 1214.1,\n",
       " 2930.31,\n",
       " 1944.15,\n",
       " 2839.22,\n",
       " 2467.31,\n",
       " 3304.99,\n",
       " 3844.42,\n",
       " 3594.99,\n",
       " 2940.24,\n",
       " 3062.41,\n",
       " 3067.82,\n",
       " 2646.76,\n",
       " 2227.79]"
      ]
     },
     "execution_count": 102,
     "metadata": {},
     "output_type": "execute_result"
    }
   ],
   "source": [
    "# create a list of all balances\n",
    "balance_list = [float(x['balance'].strip('$').replace(',','')) for x in profiles]\n",
    "balance_list"
   ]
  },
  {
   "cell_type": "code",
   "execution_count": 103,
   "id": "dff68a86",
   "metadata": {},
   "outputs": [
    {
     "data": {
      "text/plain": [
       "[2097.02,\n",
       " 3654.02,\n",
       " 1536.02,\n",
       " 3919.64,\n",
       " 3681.39,\n",
       " 1694.42,\n",
       " 1214.1,\n",
       " 2930.31,\n",
       " 1944.15,\n",
       " 2839.22,\n",
       " 2467.31,\n",
       " 3304.99,\n",
       " 3844.42,\n",
       " 3594.99,\n",
       " 2940.24,\n",
       " 3062.41,\n",
       " 3067.82,\n",
       " 2646.76,\n",
       " 2227.79]"
      ]
     },
     "execution_count": 103,
     "metadata": {},
     "output_type": "execute_result"
    }
   ],
   "source": [
    "balance_list = []\n",
    "\n",
    "for profile in profiles:\n",
    "    clean_balance = profile['balance'].strip('$').replace(',','') #striping out string characters\n",
    "    clean_balance = float(clean_balance) #converting to float\n",
    "    balance_list.append(clean_balance)\n",
    "balance_list"
   ]
  },
  {
   "cell_type": "code",
   "execution_count": 104,
   "id": "bb6e66bd",
   "metadata": {},
   "outputs": [
    {
     "data": {
      "text/plain": [
       "1214.1"
      ]
     },
     "execution_count": 104,
     "metadata": {},
     "output_type": "execute_result"
    }
   ],
   "source": [
    "min_balance = min(balance_list)\n",
    "min_balance"
   ]
  },
  {
   "cell_type": "code",
   "execution_count": 105,
   "id": "6d2455c6",
   "metadata": {},
   "outputs": [
    {
     "name": "stdout",
     "output_type": "stream",
     "text": [
      "Avery Flynn 1214.1\n"
     ]
    }
   ],
   "source": [
    "# using string methods to clean\n",
    "\n",
    "# create for loop to iterate over profiles\n",
    "for profile in profiles:\n",
    "    clean_balance = float(profile['balance'].strip('$').replace(',',''))\n",
    "    \n",
    "    # using condition to test if balance == minimum balance\n",
    "    if clean_balance == min_balance:\n",
    "        print(profile['name'], clean_balance)"
   ]
  },
  {
   "cell_type": "code",
   "execution_count": 107,
   "id": "e3444069",
   "metadata": {},
   "outputs": [
    {
     "name": "stdout",
     "output_type": "stream",
     "text": [
      "Fay Hammond 3919.64\n"
     ]
    }
   ],
   "source": [
    "max_balance = max(balance_list)\n",
    "\n",
    "# string methods to clean\n",
    "for profile in profiles:\n",
    "    clean_balance = profile['balance'].strip('$').replace(',','') #striping out string characters\n",
    "    clean_balance = float(clean_balance) #converting to float  \n",
    "    if clean_balance == max(balance_list): #changing from min to max balance list\n",
    "        print(profile['name'], clean_balance)"
   ]
  },
  {
   "cell_type": "code",
   "execution_count": 108,
   "id": "987646c7",
   "metadata": {},
   "outputs": [
    {
     "data": {
      "text/plain": [
       "'strawberry'"
      ]
     },
     "execution_count": 108,
     "metadata": {},
     "output_type": "execute_result"
    }
   ],
   "source": [
    "profiles[0]['favoriteFruit']"
   ]
  },
  {
   "cell_type": "code",
   "execution_count": 109,
   "id": "53e5c05c",
   "metadata": {},
   "outputs": [
    {
     "data": {
      "text/plain": [
       "['strawberry',\n",
       " 'apple',\n",
       " 'apple',\n",
       " 'banana',\n",
       " 'apple',\n",
       " 'apple',\n",
       " 'banana',\n",
       " 'strawberry',\n",
       " 'strawberry',\n",
       " 'banana',\n",
       " 'strawberry',\n",
       " 'strawberry',\n",
       " 'apple',\n",
       " 'strawberry',\n",
       " 'strawberry',\n",
       " 'banana',\n",
       " 'strawberry',\n",
       " 'apple',\n",
       " 'strawberry']"
      ]
     },
     "execution_count": 109,
     "metadata": {},
     "output_type": "execute_result"
    }
   ],
   "source": [
    "# empty list to add to \n",
    "fruit_ls = []\n",
    "\n",
    "for profile in profiles:\n",
    "    fruit_ls.append(profile['favoriteFruit'])\n",
    "fruit_ls    "
   ]
  },
  {
   "cell_type": "code",
   "execution_count": 110,
   "id": "b8e52971",
   "metadata": {},
   "outputs": [
    {
     "data": {
      "text/plain": [
       "{'apple', 'banana', 'strawberry'}"
      ]
     },
     "execution_count": 110,
     "metadata": {},
     "output_type": "execute_result"
    }
   ],
   "source": [
    "# turn list into set to only return unique values\n",
    "set(fruit_ls)\n"
   ]
  },
  {
   "cell_type": "code",
   "execution_count": 111,
   "id": "5c018a3e",
   "metadata": {},
   "outputs": [
    {
     "data": {
      "text/plain": [
       "6"
      ]
     },
     "execution_count": 111,
     "metadata": {},
     "output_type": "execute_result"
    }
   ],
   "source": [
    "# more manual way to calculate most common fav fruit\n",
    "fruit_ls.count('apple')"
   ]
  },
  {
   "cell_type": "code",
   "execution_count": 112,
   "id": "29d5caab",
   "metadata": {},
   "outputs": [
    {
     "data": {
      "text/plain": [
       "4"
      ]
     },
     "execution_count": 112,
     "metadata": {},
     "output_type": "execute_result"
    }
   ],
   "source": [
    "fruit_ls.count('banana')"
   ]
  },
  {
   "cell_type": "code",
   "execution_count": 113,
   "id": "2111fa6f",
   "metadata": {},
   "outputs": [
    {
     "data": {
      "text/plain": [
       "9"
      ]
     },
     "execution_count": 113,
     "metadata": {},
     "output_type": "execute_result"
    }
   ],
   "source": [
    "fruit_ls.count('strawberry')"
   ]
  },
  {
   "cell_type": "code",
   "execution_count": 114,
   "id": "cdd2a01b",
   "metadata": {},
   "outputs": [
    {
     "data": {
      "text/plain": [
       "strawberry    9\n",
       "apple         6\n",
       "banana        4\n",
       "Name: count, dtype: int64"
      ]
     },
     "execution_count": 114,
     "metadata": {},
     "output_type": "execute_result"
    }
   ],
   "source": [
    "# coming soon way using pandas library\n",
    "import pandas as pd\n",
    "\n",
    "# converting to series\n",
    "fruit_ls = pd.Series(fruit_ls)\n",
    "\n",
    "fruit_ls.value_counts()"
   ]
  },
  {
   "cell_type": "code",
   "execution_count": 115,
   "id": "59ce598f",
   "metadata": {},
   "outputs": [
    {
     "data": {
      "text/plain": [
       "{'strawberry': 9, 'apple': 6, 'banana': 4}"
      ]
     },
     "execution_count": 115,
     "metadata": {},
     "output_type": "execute_result"
    }
   ],
   "source": [
    "# dictionary way\n",
    "fruit_dict = {}\n",
    "\n",
    "for profile in profiles:\n",
    "\n",
    "    fruit = profile['favoriteFruit']\n",
    "\n",
    "    if fruit in fruit_dict:\n",
    "        fruit_dict[fruit] += 1  # Increment the count if the fruit is already in the dictionary\n",
    "    else:\n",
    "        fruit_dict[fruit] = 1  # Initialize the count to 1 if it's a new fruit\n",
    "\n",
    "fruit_dict"
   ]
  },
  {
   "cell_type": "code",
   "execution_count": 116,
   "id": "aa29eefe",
   "metadata": {},
   "outputs": [
    {
     "data": {
      "text/plain": [
       "'apple'"
      ]
     },
     "execution_count": 116,
     "metadata": {},
     "output_type": "execute_result"
    }
   ],
   "source": [
    "min(fruit_ls)"
   ]
  },
  {
   "cell_type": "code",
   "execution_count": 117,
   "id": "d4b26835",
   "metadata": {},
   "outputs": [
    {
     "data": {
      "text/plain": [
       "<bound method Series.count of 0     strawberry\n",
       "1          apple\n",
       "2          apple\n",
       "3         banana\n",
       "4          apple\n",
       "5          apple\n",
       "6         banana\n",
       "7     strawberry\n",
       "8     strawberry\n",
       "9         banana\n",
       "10    strawberry\n",
       "11    strawberry\n",
       "12         apple\n",
       "13    strawberry\n",
       "14    strawberry\n",
       "15        banana\n",
       "16    strawberry\n",
       "17         apple\n",
       "18    strawberry\n",
       "dtype: object>"
      ]
     },
     "execution_count": 117,
     "metadata": {},
     "output_type": "execute_result"
    }
   ],
   "source": [
    "fruit_ls.count"
   ]
  },
  {
   "cell_type": "code",
   "execution_count": 118,
   "id": "e46e766e",
   "metadata": {},
   "outputs": [
    {
     "ename": "TypeError",
     "evalue": "Series.count() takes 1 positional argument but 2 were given",
     "output_type": "error",
     "traceback": [
      "\u001b[0;31m---------------------------------------------------------------------------\u001b[0m",
      "\u001b[0;31mTypeError\u001b[0m                                 Traceback (most recent call last)",
      "Cell \u001b[0;32mIn[118], line 3\u001b[0m\n\u001b[1;32m      1\u001b[0m \u001b[38;5;66;03m# adjust the key argument in the min function \u001b[39;00m\n\u001b[1;32m      2\u001b[0m \u001b[38;5;66;03m# key parameter is fucntion to customize the sortin parameters\u001b[39;00m\n\u001b[0;32m----> 3\u001b[0m \u001b[38;5;28mmin\u001b[39m(fruit_ls, key\u001b[38;5;241m=\u001b[39mfruit_ls\u001b[38;5;241m.\u001b[39mcount)\n",
      "\u001b[0;31mTypeError\u001b[0m: Series.count() takes 1 positional argument but 2 were given"
     ]
    }
   ],
   "source": [
    "# adjust the key argument in the min function \n",
    "# key parameter is fucntion to customize the sortin parameters\n",
    "min(fruit_ls, key=fruit_ls.count)"
   ]
  },
  {
   "cell_type": "code",
   "execution_count": 119,
   "id": "b230639e",
   "metadata": {},
   "outputs": [
    {
     "data": {
      "text/plain": [
       "'Hello, Hebert Estes! You have 4 unread messages.'"
      ]
     },
     "execution_count": 119,
     "metadata": {},
     "output_type": "execute_result"
    }
   ],
   "source": [
    "profiles[0]['greeting']"
   ]
  },
  {
   "cell_type": "code",
   "execution_count": 120,
   "id": "4d10e476",
   "metadata": {},
   "outputs": [
    {
     "data": {
      "text/plain": [
       "['Hello,', 'Hebert', 'Estes!', 'You', 'have', '4', 'unread', 'messages.']"
      ]
     },
     "execution_count": 120,
     "metadata": {},
     "output_type": "execute_result"
    }
   ],
   "source": [
    "profiles[0]['greeting'].split(' ')"
   ]
  },
  {
   "cell_type": "code",
   "execution_count": 121,
   "id": "e1ca0a23",
   "metadata": {},
   "outputs": [
    {
     "data": {
      "text/plain": [
       "210"
      ]
     },
     "execution_count": 121,
     "metadata": {},
     "output_type": "execute_result"
    }
   ],
   "source": [
    "# empty var to add ints to\n",
    "total_unread = 0\n",
    "\n",
    "# looping over individual profiles\n",
    "for profile in profiles:\n",
    "    # storing split message greeting in a variable\n",
    "    message = profile['greeting'].split()\n",
    "    \n",
    "    # loop over split message and look for digits to add to total_unread\n",
    "    for word in message:\n",
    "        \n",
    "        # checking if word is a digit\n",
    "        if word.isdigit():\n",
    "            word = int(word) # casting to int for math calculations\n",
    "            total_unread += word\n",
    "            \n",
    "total_unread"
   ]
  },
  {
   "cell_type": "code",
   "execution_count": null,
   "id": "a3edec16",
   "metadata": {},
   "outputs": [],
   "source": []
  }
 ],
 "metadata": {
  "kernelspec": {
   "display_name": "Python 3 (ipykernel)",
   "language": "python",
   "name": "python3"
  },
  "language_info": {
   "codemirror_mode": {
    "name": "ipython",
    "version": 3
   },
   "file_extension": ".py",
   "mimetype": "text/x-python",
   "name": "python",
   "nbconvert_exporter": "python",
   "pygments_lexer": "ipython3",
   "version": "3.11.5"
  }
 },
 "nbformat": 4,
 "nbformat_minor": 5
}
