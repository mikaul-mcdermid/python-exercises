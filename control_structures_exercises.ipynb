{
 "cells": [
  {
   "cell_type": "markdown",
   "id": "aed0bb17",
   "metadata": {},
   "source": [
    "Do your work for this exercise in a file named control_structures_exercises.py or control_structures_exercises.ipynb.\n",
    "\n",
    "Conditional Basics\n",
    "\n",
    "Prompt the user for a day of the week, print out whether the day is Monday or not\n",
    "\n",
    "Prompt the user for a day of the week, print out whether the day is a weekday or a weekend\n",
    "\n",
    "Calculate a weekly paycheck, accounting for overtime pay. Create variables and make up values for:\n",
    "\n",
    "The number of hours worked in one week\n",
    "The hourly rate\n",
    "For calculating pay:\n",
    "\n",
    "For working 40 hours or less, each hour is paid at the hourly rate\n",
    "For working more than 40 hours\n",
    "\n",
    "the first 40 hours are paid at the hourly rate\n",
    "\n",
    "each hour after 40 is paid at time and a half (hourly rate * 1.5)"
   ]
  },
  {
   "cell_type": "code",
   "execution_count": 116,
   "id": "eb9d4ee2",
   "metadata": {},
   "outputs": [
    {
     "name": "stdout",
     "output_type": "stream",
     "text": [
      "What day is it? Enter a day.\n",
      "Tuesday\n",
      "Almost the weekend\n"
     ]
    }
   ],
   "source": [
    "day_of_the_week = input(\"What day is it? Enter a day.\\n\")\n",
    "if day_of_the_week.lower() == ('monday'):\n",
    "    print(\"It's Mondus\")\n",
    "else:\n",
    "    print(\"Almost the weekend\")"
   ]
  },
  {
   "cell_type": "code",
   "execution_count": null,
   "id": "22ae7392",
   "metadata": {},
   "outputs": [],
   "source": [
    "user_input = input(\"Enter a day of the week: \")\n",
    "if user_input.lower() == 'monday':\n",
    "    print(\"It\\'s Monday\")\n",
    "else:\n",
    "    print(\"Not Monday\")"
   ]
  },
  {
   "cell_type": "code",
   "execution_count": 143,
   "id": "51e2fe53",
   "metadata": {},
   "outputs": [
    {
     "name": "stdout",
     "output_type": "stream",
     "text": [
      "What day is it?\n",
      "tueday\n",
      "BOOOOOOOOO!\n"
     ]
    }
   ],
   "source": [
    "day_of_the_week = input(\"What day is it?\\n\")\n",
    "if day_of_the_week.lower() == ('saturday'):\n",
    "    print('It\\'s the freaking weekend baby I\\'m about to have me some fun!')\n",
    "elif day_of_the_week.lower() == 'sunday':\n",
    "    print('It\\'s the freaking weekend baby I\\'m about to have me some fun!')\n",
    "else:\n",
    "    print('BOOOOOOOOO!')"
   ]
  },
  {
   "cell_type": "code",
   "execution_count": null,
   "id": "f573cb2a",
   "metadata": {},
   "outputs": [],
   "source": [
    "while True:\n",
    "    user_input = input(\"Enter a day of the week: \")\n",
    "    if user_input.lower() in ['saturday', 'sunday']:\n",
    "    print('Yay! The weekend!')\n",
    "    break\n",
    "else:\n",
    "    print('Boo, not the weekend.')"
   ]
  },
  {
   "cell_type": "code",
   "execution_count": null,
   "id": "4f38c2ab",
   "metadata": {
    "scrolled": true
   },
   "outputs": [],
   "source": [
    "# Define variables (you can change these values)\n",
    "hours_worked = input(\"How many hours did you work this week?\\n\")  # Number of hours worked in one week\n",
    "hourly_rate = 15.0  # Hourly rate\n",
    "\n",
    "# Calculate the weekly paycheck\n",
    "if int(hours_worked) <= 40:\n",
    "    weekly_pay = int(hours_worked) * hourly_rate\n",
    "else:\n",
    "    regular_hours = 40\n",
    "    overtime_hours = int(hours_worked) - 40\n",
    "    weekly_pay = (regular_hours * hourly_rate) + (overtime_hours * hourly_rate * 1.5)\n",
    "\n",
    "# Print the weekly paycheck\n",
    "print(\"Weekly paycheck: $\", weekly_pay)\n"
   ]
  },
  {
   "cell_type": "code",
   "execution_count": 121,
   "id": "8226279a",
   "metadata": {},
   "outputs": [
    {
     "name": "stdout",
     "output_type": "stream",
     "text": [
      "3825.0\n"
     ]
    }
   ],
   "source": [
    "hrs_worked = 70\n",
    "hourly_pay = 45.00\n",
    "\n",
    "if hrs_worked > 40:\n",
    "    ot_hrs = hrs_worked - 40 # gets overtime hours\n",
    "    ot_pay = ot_hrs * hourly_pay * 1.5 #gets overtime pay\n",
    "    reg_pay = 40 * hourly_pay\n",
    "    pay = ot_pay + reg_pay\n",
    "else:\n",
    "    pay = hrs_worked * hourly_pay\n",
    "print(pay)"
   ]
  },
  {
   "cell_type": "markdown",
   "id": "e21feac3",
   "metadata": {},
   "source": [
    "Loop Basics\n",
    "\n",
    "While\n",
    "\n",
    "Create an integer variable i with a value of 5. Create a while loop that runs so long as i is less than or equal to 15. Each loop iteration, output the current value of i, then increment i by one.\n",
    "Your output should look like this:\n",
    "\n",
    "\n",
    "5\n",
    "6\n",
    "7\n",
    "8\n",
    "9\n",
    "10\n",
    "11\n",
    "12\n",
    "13\n",
    "14\n",
    "15\n",
    "Create a while loop that will count by 2's starting with 0 and ending at 100. Follow each number with a new line.\n",
    "Create a while loop that starts at 2, and displays the number squared on each line while the number is less than 1,000,000. Output should equal:\n",
    "\n",
    "\n",
    " 2\n",
    " 4\n",
    " 16\n",
    " 256\n",
    " 65536\n",
    "Write a while loop that uses print to create the output shown below.\n",
    "\n",
    "\n",
    "100\n",
    "95\n",
    "90\n",
    "85\n",
    "80\n",
    "75\n",
    "70\n",
    "65\n",
    "60\n",
    "55\n",
    "50\n",
    "45\n",
    "40\n",
    "35\n",
    "30\n",
    "25\n",
    "20\n",
    "15\n",
    "10\n",
    "5\n",
    "For Loops\n",
    "\n",
    "Write some code using a for loop that prompts the user for a number, then shows a multiplication table up through 10 for that number.\n",
    "\n",
    "For example, if the user enters 7, your program should output:\n",
    "\n",
    "\n",
    "7 x 1 = 7\n",
    "7 x 2 = 14\n",
    "7 x 3 = 21\n",
    "7 x 4 = 28\n",
    "7 x 5 = 35\n",
    "7 x 6 = 42\n",
    "7 x 7 = 49\n",
    "7 x 8 = 56\n",
    "7 x 9 = 63\n",
    "7 x 10 = 70\n",
    "Create a for loop that uses print to create the output shown below.\n",
    "\n",
    "\n",
    "1\n",
    "22\n",
    "333\n",
    "4444\n",
    "55555\n",
    "666666\n",
    "7777777\n",
    "88888888\n",
    "999999999\n",
    "break and continue\n",
    "\n",
    "Write a program that prompts the user for a positive integer. Next write a loop that prints out the numbers from the number the user entered down to 1.\n",
    "\n",
    "The input function can be used to prompt for input and use that input in your python code. Prompt the user to enter a positive number and write a loop that counts from 0 to that number. (Hints: note that the input function returns a string, so you'll need to convert this to a numeric type.)\n",
    "\n",
    "Prompt the user for an odd number between 1 and 50. Use a loop and a break statement to continue prompting the user if they enter invalid input. (Hint: use the isdigit method on strings to determine this). Use a loop and the continue statement to output all the odd numbers between 1 and 50, except for the number the user entered.\n",
    "\n",
    "Your output should look like this:\n",
    "\n",
    "\n",
    "Number to skip is: 27\n",
    "\n",
    "Here is an odd number: 1\n",
    "Here is an odd number: 3\n",
    "Here is an odd number: 5\n",
    "Here is an odd number: 7\n",
    "Here is an odd number: 9\n",
    "Here is an odd number: 11\n",
    "Here is an odd number: 13\n",
    "Here is an odd number: 15\n",
    "Here is an odd number: 17\n",
    "Here is an odd number: 19\n",
    "Here is an odd number: 21\n",
    "Here is an odd number: 23\n",
    "Here is an odd number: 25\n",
    "Yikes! Skipping number: 27\n",
    "Here is an odd number: 29\n",
    "Here is an odd number: 31\n",
    "Here is an odd number: 33\n",
    "Here is an odd number: 35\n",
    "Here is an odd number: 37\n",
    "Here is an odd number: 39\n",
    "Here is an odd number: 41\n",
    "Here is an odd number: 43\n",
    "Here is an odd number: 45\n",
    "Here is an odd number: 47\n",
    "Here is an odd number: 49"
   ]
  },
  {
   "cell_type": "code",
   "execution_count": 122,
   "id": "327e4df8",
   "metadata": {
    "scrolled": true
   },
   "outputs": [
    {
     "name": "stdout",
     "output_type": "stream",
     "text": [
      "5\n",
      "6\n",
      "7\n",
      "8\n",
      "9\n",
      "10\n",
      "11\n",
      "12\n",
      "13\n",
      "14\n",
      "15\n"
     ]
    }
   ],
   "source": [
    "i = 5\n",
    "while i <=15:\n",
    "    print(i)\n",
    "    i +=1"
   ]
  },
  {
   "cell_type": "code",
   "execution_count": 123,
   "id": "2f4099ff",
   "metadata": {
    "scrolled": true
   },
   "outputs": [
    {
     "name": "stdout",
     "output_type": "stream",
     "text": [
      "0\n",
      "2\n",
      "4\n",
      "6\n",
      "8\n",
      "10\n",
      "12\n",
      "14\n",
      "16\n",
      "18\n",
      "20\n",
      "22\n",
      "24\n",
      "26\n",
      "28\n",
      "30\n",
      "32\n",
      "34\n",
      "36\n",
      "38\n",
      "40\n",
      "42\n",
      "44\n",
      "46\n",
      "48\n",
      "50\n",
      "52\n",
      "54\n",
      "56\n",
      "58\n",
      "60\n",
      "62\n",
      "64\n",
      "66\n",
      "68\n",
      "70\n",
      "72\n",
      "74\n",
      "76\n",
      "78\n",
      "80\n",
      "82\n",
      "84\n",
      "86\n",
      "88\n",
      "90\n",
      "92\n",
      "94\n",
      "96\n",
      "98\n",
      "100\n"
     ]
    }
   ],
   "source": [
    "x = 0\n",
    "while x in range(101):\n",
    "    print(x)\n",
    "    x+=2\n",
    "    \n",
    "\n",
    "\n"
   ]
  },
  {
   "cell_type": "code",
   "execution_count": null,
   "id": "cfbac9b7",
   "metadata": {},
   "outputs": [],
   "source": [
    "i = 0\n",
    "while i <= 100:\n",
    "    print(i)\n",
    "    i +=2"
   ]
  },
  {
   "cell_type": "code",
   "execution_count": 124,
   "id": "d82e63a1",
   "metadata": {},
   "outputs": [
    {
     "name": "stdout",
     "output_type": "stream",
     "text": [
      "2\n",
      "4\n",
      "16\n",
      "256\n",
      "65536\n"
     ]
    }
   ],
   "source": [
    "number = 2\n",
    "while number < 1000000:\n",
    "    print(number)\n",
    "    number = number ** 2\n"
   ]
  },
  {
   "cell_type": "code",
   "execution_count": 127,
   "id": "ddf029e6",
   "metadata": {},
   "outputs": [
    {
     "name": "stdout",
     "output_type": "stream",
     "text": [
      "2\n",
      "4\n",
      "16\n",
      "256\n",
      "65536\n"
     ]
    }
   ],
   "source": [
    "i = 2\n",
    "while i <= 1_000_000:\n",
    "    print(i)\n",
    "    i = i*i"
   ]
  },
  {
   "cell_type": "code",
   "execution_count": 128,
   "id": "b08e5529",
   "metadata": {
    "scrolled": true
   },
   "outputs": [
    {
     "name": "stdout",
     "output_type": "stream",
     "text": [
      "100\n",
      "95\n",
      "90\n",
      "85\n",
      "80\n",
      "75\n",
      "70\n",
      "65\n",
      "60\n",
      "55\n",
      "50\n",
      "45\n",
      "40\n",
      "35\n",
      "30\n",
      "25\n",
      "20\n",
      "15\n",
      "10\n",
      "5\n"
     ]
    }
   ],
   "source": [
    "number = 100\n",
    "while number != 0:\n",
    "    print(number)\n",
    "    number-= 5"
   ]
  },
  {
   "cell_type": "code",
   "execution_count": 129,
   "id": "99db8d83",
   "metadata": {},
   "outputs": [
    {
     "name": "stdout",
     "output_type": "stream",
     "text": [
      "100\n",
      "95\n",
      "90\n",
      "85\n",
      "80\n",
      "75\n",
      "70\n",
      "65\n",
      "60\n",
      "55\n",
      "50\n",
      "45\n",
      "40\n",
      "35\n",
      "30\n",
      "25\n",
      "20\n",
      "15\n",
      "10\n",
      "5\n"
     ]
    }
   ],
   "source": [
    "i = 100\n",
    "while i >= 5:\n",
    "    print(i)\n",
    "    i -= 5"
   ]
  },
  {
   "cell_type": "code",
   "execution_count": 130,
   "id": "ad0772e7",
   "metadata": {},
   "outputs": [
    {
     "name": "stdout",
     "output_type": "stream",
     "text": [
      "Enter a number.\n",
      "7\n",
      "7 x 1 = 7\n",
      "7 x 2 = 14\n",
      "7 x 3 = 21\n",
      "7 x 4 = 28\n",
      "7 x 5 = 35\n",
      "7 x 6 = 42\n",
      "7 x 7 = 49\n",
      "7 x 8 = 56\n",
      "7 x 9 = 63\n",
      "7 x 10 = 70\n"
     ]
    }
   ],
   "source": [
    "# Prompt the user for a number\n",
    "number = int(input(\"Enter a number.\\n\"))\n",
    "\n",
    "# Generate and display the multiplication table\n",
    "for i in range(1, 11):\n",
    "    result = number * i\n",
    "    print(f\"{number} x {i} = {result}\")\n"
   ]
  },
  {
   "cell_type": "code",
   "execution_count": null,
   "id": "006f44e3",
   "metadata": {},
   "outputs": [],
   "source": [
    "for i in range(1,11):\n",
    "    \n",
    "    print(f'{i} x )"
   ]
  },
  {
   "cell_type": "code",
   "execution_count": 144,
   "id": "8837351b",
   "metadata": {
    "scrolled": true
   },
   "outputs": [
    {
     "name": "stdout",
     "output_type": "stream",
     "text": [
      "Enter a number: 3\n",
      "3.0 * 1 = 3.0\n",
      "3.0 * 2 = 6.0\n",
      "3.0 * 3 = 9.0\n",
      "3.0 * 4 = 12.0\n",
      "3.0 * 5 = 15.0\n",
      "3.0 * 6 = 18.0\n",
      "3.0 * 7 = 21.0\n",
      "3.0 * 8 = 24.0\n",
      "3.0 * 9 = 27.0\n"
     ]
    }
   ],
   "source": [
    "user_input = float(input(\"Enter a number: \"))\n",
    "for i in range(1, 10):\n",
    "    multiply = user_input * i\n",
    "    print(f'{user_input} * {i} = {multiply}')"
   ]
  },
  {
   "cell_type": "code",
   "execution_count": null,
   "id": "754df22a",
   "metadata": {},
   "outputs": [],
   "source": [
    "print(user_input, ' x ', {i}, '=' , multiply)"
   ]
  },
  {
   "cell_type": "code",
   "execution_count": 137,
   "id": "510d5f19",
   "metadata": {},
   "outputs": [
    {
     "name": "stdout",
     "output_type": "stream",
     "text": [
      "Enter a number: 3\n",
      "3 * i = 3\n",
      "3 * i = 6\n",
      "3 * i = 9\n",
      "3 * i = 12\n",
      "3 * i = 15\n",
      "3 * i = 18\n",
      "3 * i = 21\n",
      "3 * i = 24\n",
      "3 * i = 27\n"
     ]
    }
   ],
   "source": [
    "user_input = input(\"Enter a number: \")\n",
    "for i in range(1, 10):\n",
    "    multiply = int(user_input) * i\n",
    "    print(f'{user_input} * i = {multiply}')"
   ]
  },
  {
   "cell_type": "code",
   "execution_count": 138,
   "id": "3e357975",
   "metadata": {},
   "outputs": [
    {
     "name": "stdout",
     "output_type": "stream",
     "text": [
      "1\n",
      "22\n",
      "333\n",
      "4444\n",
      "55555\n",
      "666666\n",
      "7777777\n",
      "88888888\n",
      "999999999\n"
     ]
    }
   ],
   "source": [
    "for i in range(1,10):\n",
    "    print(str(i)*i)"
   ]
  },
  {
   "cell_type": "markdown",
   "id": "fe73524e",
   "metadata": {
    "scrolled": true
   },
   "source": [
    "Next write a loop that prints out the numbers from the number the user entered down to 1.\n",
    "number = int(input('Enter a number.\\n'))\n"
   ]
  },
  {
   "cell_type": "code",
   "execution_count": 139,
   "id": "ebc7de87",
   "metadata": {},
   "outputs": [
    {
     "name": "stdout",
     "output_type": "stream",
     "text": [
      "Enter a positive number: 19\n",
      "19\n",
      "18\n",
      "17\n",
      "16\n",
      "15\n",
      "14\n",
      "13\n",
      "12\n",
      "11\n",
      "10\n",
      "9\n",
      "8\n",
      "7\n",
      "6\n",
      "5\n",
      "4\n",
      "3\n",
      "2\n"
     ]
    }
   ],
   "source": [
    "user_input = input('Enter a positive number: ')\n",
    "for i in range(int(user_input),1,-1):\n",
    "    print(i)"
   ]
  },
  {
   "cell_type": "code",
   "execution_count": null,
   "id": "20a4dfca",
   "metadata": {},
   "outputs": [],
   "source": []
  },
  {
   "cell_type": "code",
   "execution_count": 146,
   "id": "1ad0b1e7",
   "metadata": {},
   "outputs": [
    {
     "name": "stdout",
     "output_type": "stream",
     "text": [
      "Enter a positive integer: 34\n",
      "34\n",
      "33\n",
      "32\n",
      "31\n",
      "30\n",
      "29\n",
      "28\n",
      "27\n",
      "26\n",
      "25\n",
      "24\n",
      "23\n",
      "22\n",
      "21\n",
      "20\n",
      "19\n",
      "18\n",
      "17\n",
      "16\n",
      "15\n",
      "14\n",
      "13\n",
      "12\n",
      "11\n",
      "10\n",
      "9\n",
      "8\n",
      "7\n",
      "6\n",
      "5\n",
      "4\n",
      "3\n",
      "2\n",
      "1\n"
     ]
    }
   ],
   "source": [
    "# Prompt the user for a positive integer\n",
    "user_input = input(\"Enter a positive integer: \")\n",
    "\n",
    "# Convert user input to an integer\n",
    "try:\n",
    "    num = int(user_input)\n",
    "    if num <= 0:\n",
    "        print(\"Please enter a positive integer.\")\n",
    "    else:\n",
    "        # Use a loop to print numbers from num down to 1\n",
    "        for i in range(num, 0, -1):\n",
    "            print(i)\n",
    "except ValueError:\n",
    "    print(\"Invalid input. Please enter a positive integer.\")\n"
   ]
  },
  {
   "cell_type": "code",
   "execution_count": null,
   "id": "0b97c3b5",
   "metadata": {},
   "outputs": [],
   "source": [
    "cnt = 0\n",
    "while True:\n",
    "    if cnt >= user_input:\n",
    "    print(cnt)\n",
    "    break\n",
    "else:\n",
    "    print(cnt)\n",
    "    cnt+=1"
   ]
  },
  {
   "cell_type": "code",
   "execution_count": 59,
   "id": "0cdb71d1",
   "metadata": {},
   "outputs": [
    {
     "name": "stdout",
     "output_type": "stream",
     "text": [
      "Enter a positive number.\n",
      "-4\n",
      "Please enter a positive number.\n"
     ]
    }
   ],
   "source": [
    "#The input function can be used to prompt for input and use that input in your python code. Prompt the user to enter a positive number and write a loop that counts from 0 to that number. (Hints: note that the input function returns a string, so you'll need to convert this to a numeric type.)\n",
    "\n",
    "\n",
    "user_input = input(\"Enter a positive number.\\n\")\n",
    "\n",
    "try:\n",
    "    num = int(user_input)\n",
    "    if num < 0:\n",
    "        print(\"Please enter a positive number.\")\n",
    "    else:\n",
    "        for i in range(num + 1):\n",
    "            print(i)\n",
    "except ValueError:\n",
    "    print(\"Invalid input, try again.\")"
   ]
  },
  {
   "cell_type": "code",
   "execution_count": 147,
   "id": "ceeacfcb",
   "metadata": {},
   "outputs": [
    {
     "name": "stdout",
     "output_type": "stream",
     "text": [
      "Please enter an odd number between 1 and 50.\n",
      " 27\n",
      "Number to skip is: 27\n",
      "Odd numbers between 1 and 50, except for 27 :\n",
      "1\n",
      "3\n",
      "5\n",
      "7\n",
      "9\n",
      "11\n",
      "13\n",
      "15\n",
      "17\n",
      "19\n",
      "21\n",
      "23\n",
      "25\n",
      "29\n",
      "31\n",
      "33\n",
      "35\n",
      "37\n",
      "39\n",
      "41\n",
      "43\n",
      "45\n",
      "47\n",
      "49\n"
     ]
    }
   ],
   "source": [
    "# user_input = input(\"Please enter an odd number between 1 and 50\\n\")\n",
    "\n",
    "# try:\n",
    "#     num = int(user_input)\n",
    "#     if num % 2 == 0:\n",
    "#         print(\"This is an even number, please try again.\")\n",
    "#     else\n",
    "    \n",
    "    \n",
    "while True:\n",
    "    user_input = input(\"Please enter an odd number between 1 and 50.\\n \")\n",
    "    \n",
    "    if user_input.isdigit():\n",
    "        number_to_skip = int(user_input)\n",
    "        \n",
    "        if 1 <= number_to_skip <= 50 and number_to_skip % 2 != 0:\n",
    "            break\n",
    "        else:\n",
    "            print(\"Invalid input. Please enter a valid odd number between 1 and 50.\")\n",
    "    else:\n",
    "        print(\"Invalid input. Please enter a valid number.\")\n",
    "\n",
    "print(\"Number to skip is:\", number_to_skip)\n",
    "print(\"Odd numbers between 1 and 50, except for\", number_to_skip, \":\")\n",
    "for i in range(1, 51):\n",
    "    if i == number_to_skip:\n",
    "        continue\n",
    "    if i % 2 != 0:\n",
    "        print(i)\n",
    "    "
   ]
  },
  {
   "cell_type": "code",
   "execution_count": 164,
   "id": "ac9e2a7b",
   "metadata": {},
   "outputs": [
    {
     "name": "stdout",
     "output_type": "stream",
     "text": [
      "Enter an even number between 1 and 50: 34\n",
      "\n",
      "Number to skip is: 34\n",
      "Invalid input, please enter an odd number between 1 and 50.\n",
      "Enter an even number between 1 and 50: 34\n",
      "\n",
      "Number to skip is: 34\n",
      "Invalid input, please enter an odd number between 1 and 50.\n",
      "Enter an even number between 1 and 50: 25\n",
      "\n",
      "Number to skip is: 25\n",
      "Here is an odd number: 1\n",
      "Here is an odd number: 3\n",
      "Here is an odd number: 5\n",
      "Here is an odd number: 7\n",
      "Here is an odd number: 9\n",
      "Here is an odd number: 11\n",
      "Here is an odd number: 13\n",
      "Here is an odd number: 15\n",
      "Here is an odd number: 17\n",
      "Here is an odd number: 19\n",
      "Here is an odd number: 21\n",
      "Here is an odd number: 23\n",
      "Yikes! Skipping: 25\n",
      "Here is an odd number: 27\n",
      "Here is an odd number: 29\n",
      "Here is an odd number: 31\n",
      "Here is an odd number: 33\n",
      "Here is an odd number: 35\n",
      "Here is an odd number: 37\n",
      "Here is an odd number: 39\n",
      "Here is an odd number: 41\n",
      "Here is an odd number: 43\n",
      "Here is an odd number: 45\n",
      "Here is an odd number: 47\n",
      "Here is an odd number: 49\n"
     ]
    }
   ],
   "source": [
    "while True:\n",
    "    user_input = int(input('Enter an even number between 1 and 50: '))\n",
    "    print(f'\\nNumber to skip is: {user_input}')\n",
    "    if isinstance(user_input, int):\n",
    "        if 1 <= user_input <= 50 and user_input % 2 == 1:\n",
    "            for i in range(1,51,2):\n",
    "                if i == user_input:\n",
    "                    print(f'Yikes! Skipping: {user_input}')\n",
    "                    continue\n",
    "                else:\n",
    "                    pass\n",
    "                print(f'Here is an odd number: {i}')\n",
    "            break\n",
    "        else:\n",
    "            print(\"Invalid input, please enter an odd number between 1 and 50.\")\n",
    "    else:\n",
    "        print(\"Invalid input, please enter an odd number between 1 and 50.\")"
   ]
  },
  {
   "cell_type": "code",
   "execution_count": 142,
   "id": "dae29290",
   "metadata": {},
   "outputs": [
    {
     "name": "stdout",
     "output_type": "stream",
     "text": [
      "Enter a positive number: 13\n",
      "0\n",
      "1\n",
      "2\n",
      "3\n",
      "4\n",
      "5\n",
      "6\n",
      "7\n",
      "8\n",
      "9\n",
      "10\n",
      "11\n",
      "12\n",
      "13\n"
     ]
    }
   ],
   "source": [
    "user_input = int(input('Enter a positive number: '))\n",
    "for i in range(0, int(user_input)+1):\n",
    "    print(i)"
   ]
  },
  {
   "cell_type": "markdown",
   "id": "8a6ebcc2",
   "metadata": {},
   "source": [
    "3. Fizzbuzz\n",
    "\n",
    "One of the most common interview questions for entry-level programmers is the FizzBuzz test. Developed by Imran Ghory, the test is designed to test basic looping and conditional logic skills.\n",
    "\n",
    "Write a program that prints the numbers from 1 to 100.\n",
    "For multiples of three print \"Fizz\" instead of the number\n",
    "For the multiples of five print \"Buzz\".\n",
    "For numbers which are multiples of both three and five print \"FizzBuzz\"."
   ]
  },
  {
   "cell_type": "code",
   "execution_count": 165,
   "id": "ac8b2e9b",
   "metadata": {
    "scrolled": true
   },
   "outputs": [
    {
     "name": "stdout",
     "output_type": "stream",
     "text": [
      "1\n",
      "2\n",
      "Fizz\n",
      "4\n",
      "Buzz\n",
      "Fizz\n",
      "7\n",
      "8\n",
      "Fizz\n",
      "Buzz\n",
      "11\n",
      "Fizz\n",
      "13\n",
      "14\n",
      "FizzBuzz\n",
      "16\n",
      "17\n",
      "Fizz\n",
      "19\n",
      "Buzz\n",
      "Fizz\n",
      "22\n",
      "23\n",
      "Fizz\n",
      "Buzz\n",
      "26\n",
      "Fizz\n",
      "28\n",
      "29\n",
      "FizzBuzz\n",
      "31\n",
      "32\n",
      "Fizz\n",
      "34\n",
      "Buzz\n",
      "Fizz\n",
      "37\n",
      "38\n",
      "Fizz\n",
      "Buzz\n",
      "41\n",
      "Fizz\n",
      "43\n",
      "44\n",
      "FizzBuzz\n",
      "46\n",
      "47\n",
      "Fizz\n",
      "49\n",
      "Buzz\n",
      "Fizz\n",
      "52\n",
      "53\n",
      "Fizz\n",
      "Buzz\n",
      "56\n",
      "Fizz\n",
      "58\n",
      "59\n",
      "FizzBuzz\n",
      "61\n",
      "62\n",
      "Fizz\n",
      "64\n",
      "Buzz\n",
      "Fizz\n",
      "67\n",
      "68\n",
      "Fizz\n",
      "Buzz\n",
      "71\n",
      "Fizz\n",
      "73\n",
      "74\n",
      "FizzBuzz\n",
      "76\n",
      "77\n",
      "Fizz\n",
      "79\n",
      "Buzz\n",
      "Fizz\n",
      "82\n",
      "83\n",
      "Fizz\n",
      "Buzz\n",
      "86\n",
      "Fizz\n",
      "88\n",
      "89\n",
      "FizzBuzz\n",
      "91\n",
      "92\n",
      "Fizz\n",
      "94\n",
      "Buzz\n",
      "Fizz\n",
      "97\n",
      "98\n",
      "Fizz\n",
      "Buzz\n"
     ]
    }
   ],
   "source": [
    "for num in range(1, 101):\n",
    "    if num % 3 == 0 and num % 5 == 0:\n",
    "        print('FizzBuzz')\n",
    "    elif num % 3 == 0:\n",
    "        print('Fizz')\n",
    "    elif num % 5 == 0:\n",
    "        print('Buzz')\n",
    "    else:\n",
    "        print(num)"
   ]
  },
  {
   "cell_type": "code",
   "execution_count": 166,
   "id": "a3e44603",
   "metadata": {},
   "outputs": [
    {
     "name": "stdout",
     "output_type": "stream",
     "text": [
      "1\n",
      "2\n",
      "Fizz\n",
      "4\n",
      "buzz\n",
      "Fizz\n",
      "7\n",
      "8\n",
      "Fizz\n",
      "buzz\n",
      "11\n",
      "Fizz\n",
      "13\n",
      "14\n",
      "Fizzbuzz\n",
      "16\n",
      "17\n",
      "Fizz\n",
      "19\n",
      "buzz\n",
      "Fizz\n",
      "22\n",
      "23\n",
      "Fizz\n",
      "buzz\n",
      "26\n",
      "Fizz\n",
      "28\n",
      "29\n",
      "Fizzbuzz\n",
      "31\n",
      "32\n",
      "Fizz\n",
      "34\n",
      "buzz\n",
      "Fizz\n",
      "37\n",
      "38\n",
      "Fizz\n",
      "buzz\n",
      "41\n",
      "Fizz\n",
      "43\n",
      "44\n",
      "Fizzbuzz\n",
      "46\n",
      "47\n",
      "Fizz\n",
      "49\n",
      "buzz\n",
      "Fizz\n",
      "52\n",
      "53\n",
      "Fizz\n",
      "buzz\n",
      "56\n",
      "Fizz\n",
      "58\n",
      "59\n",
      "Fizzbuzz\n",
      "61\n",
      "62\n",
      "Fizz\n",
      "64\n",
      "buzz\n",
      "Fizz\n",
      "67\n",
      "68\n",
      "Fizz\n",
      "buzz\n",
      "71\n",
      "Fizz\n",
      "73\n",
      "74\n",
      "Fizzbuzz\n",
      "76\n",
      "77\n",
      "Fizz\n",
      "79\n",
      "buzz\n",
      "Fizz\n",
      "82\n",
      "83\n",
      "Fizz\n",
      "buzz\n",
      "86\n",
      "Fizz\n",
      "88\n",
      "89\n",
      "Fizzbuzz\n",
      "91\n",
      "92\n",
      "Fizz\n",
      "94\n",
      "buzz\n",
      "Fizz\n",
      "97\n",
      "98\n",
      "Fizz\n",
      "buzz\n"
     ]
    }
   ],
   "source": [
    "for i in range(1, 101):\n",
    "    if i % 15 == 0:\n",
    "        print('Fizzbuzz')\n",
    "    elif i % 5 == 0:\n",
    "        print('buzz')\n",
    "    elif i % 3 == 0:\n",
    "        print('Fizz')\n",
    "    else:\n",
    "        print(i)"
   ]
  },
  {
   "cell_type": "markdown",
   "id": "c48a2409",
   "metadata": {},
   "source": [
    "* input = 'yes'\n",
    "* while input is yes:\n",
    "    * num = prompt for number\n",
    "    * for i in range 1 to num:\n",
    "        * in table format\n",
    "            * print i \n",
    "            * print square\n",
    "            * print cube\n",
    "    * input = prompt to continue"
   ]
  },
  {
   "cell_type": "code",
   "execution_count": 171,
   "id": "8573616c",
   "metadata": {},
   "outputs": [
    {
     "name": "stdout",
     "output_type": "stream",
     "text": [
      "Enter a number: 6\n",
      "number | square | cube\n",
      "-------|--------|-------\n",
      "1      |1       |1      \n",
      "2      |4       |8      \n",
      "3      |9       |27     \n",
      "4      |16      |64     \n",
      "5      |25      |125    \n",
      "6      |36      |216    \n"
     ]
    },
    {
     "ename": "KeyboardInterrupt",
     "evalue": "Interrupted by user",
     "output_type": "error",
     "traceback": [
      "\u001b[0;31m---------------------------------------------------------------------------\u001b[0m",
      "\u001b[0;31mKeyboardInterrupt\u001b[0m                         Traceback (most recent call last)",
      "Cell \u001b[0;32mIn[171], line 9\u001b[0m\n\u001b[1;32m      7\u001b[0m \u001b[38;5;28;01mfor\u001b[39;00m i \u001b[38;5;129;01min\u001b[39;00m \u001b[38;5;28mrange\u001b[39m(\u001b[38;5;241m1\u001b[39m,numb\u001b[38;5;241m+\u001b[39m\u001b[38;5;241m1\u001b[39m):\n\u001b[1;32m      8\u001b[0m     \u001b[38;5;28mprint\u001b[39m(\u001b[38;5;124mf\u001b[39m\u001b[38;5;124m'\u001b[39m\u001b[38;5;132;01m{\u001b[39;00mi\u001b[38;5;132;01m:\u001b[39;00m\u001b[38;5;124m<7\u001b[39m\u001b[38;5;132;01m}\u001b[39;00m\u001b[38;5;124m|\u001b[39m\u001b[38;5;132;01m{\u001b[39;00mi\u001b[38;5;241m*\u001b[39m\u001b[38;5;241m*\u001b[39m\u001b[38;5;241m2\u001b[39m\u001b[38;5;132;01m:\u001b[39;00m\u001b[38;5;124m<8\u001b[39m\u001b[38;5;132;01m}\u001b[39;00m\u001b[38;5;124m|\u001b[39m\u001b[38;5;132;01m{\u001b[39;00mi\u001b[38;5;241m*\u001b[39m\u001b[38;5;241m*\u001b[39m\u001b[38;5;241m3\u001b[39m\u001b[38;5;132;01m:\u001b[39;00m\u001b[38;5;124m<7\u001b[39m\u001b[38;5;132;01m}\u001b[39;00m\u001b[38;5;124m'\u001b[39m)\n\u001b[0;32m----> 9\u001b[0m cont \u001b[38;5;241m=\u001b[39m \u001b[38;5;28minput\u001b[39m(\u001b[38;5;124m'\u001b[39m\u001b[38;5;124mWould you like to continue (yes/no)\u001b[39m\u001b[38;5;124m'\u001b[39m)\n",
      "File \u001b[0;32m/opt/homebrew/anaconda3/lib/python3.11/site-packages/ipykernel/kernelbase.py:1202\u001b[0m, in \u001b[0;36mKernel.raw_input\u001b[0;34m(self, prompt)\u001b[0m\n\u001b[1;32m   1200\u001b[0m     msg \u001b[38;5;241m=\u001b[39m \u001b[38;5;124m\"\u001b[39m\u001b[38;5;124mraw_input was called, but this frontend does not support input requests.\u001b[39m\u001b[38;5;124m\"\u001b[39m\n\u001b[1;32m   1201\u001b[0m     \u001b[38;5;28;01mraise\u001b[39;00m StdinNotImplementedError(msg)\n\u001b[0;32m-> 1202\u001b[0m \u001b[38;5;28;01mreturn\u001b[39;00m \u001b[38;5;28mself\u001b[39m\u001b[38;5;241m.\u001b[39m_input_request(\n\u001b[1;32m   1203\u001b[0m     \u001b[38;5;28mstr\u001b[39m(prompt),\n\u001b[1;32m   1204\u001b[0m     \u001b[38;5;28mself\u001b[39m\u001b[38;5;241m.\u001b[39m_parent_ident[\u001b[38;5;124m\"\u001b[39m\u001b[38;5;124mshell\u001b[39m\u001b[38;5;124m\"\u001b[39m],\n\u001b[1;32m   1205\u001b[0m     \u001b[38;5;28mself\u001b[39m\u001b[38;5;241m.\u001b[39mget_parent(\u001b[38;5;124m\"\u001b[39m\u001b[38;5;124mshell\u001b[39m\u001b[38;5;124m\"\u001b[39m),\n\u001b[1;32m   1206\u001b[0m     password\u001b[38;5;241m=\u001b[39m\u001b[38;5;28;01mFalse\u001b[39;00m,\n\u001b[1;32m   1207\u001b[0m )\n",
      "File \u001b[0;32m/opt/homebrew/anaconda3/lib/python3.11/site-packages/ipykernel/kernelbase.py:1245\u001b[0m, in \u001b[0;36mKernel._input_request\u001b[0;34m(self, prompt, ident, parent, password)\u001b[0m\n\u001b[1;32m   1242\u001b[0m \u001b[38;5;28;01mexcept\u001b[39;00m \u001b[38;5;167;01mKeyboardInterrupt\u001b[39;00m:\n\u001b[1;32m   1243\u001b[0m     \u001b[38;5;66;03m# re-raise KeyboardInterrupt, to truncate traceback\u001b[39;00m\n\u001b[1;32m   1244\u001b[0m     msg \u001b[38;5;241m=\u001b[39m \u001b[38;5;124m\"\u001b[39m\u001b[38;5;124mInterrupted by user\u001b[39m\u001b[38;5;124m\"\u001b[39m\n\u001b[0;32m-> 1245\u001b[0m     \u001b[38;5;28;01mraise\u001b[39;00m \u001b[38;5;167;01mKeyboardInterrupt\u001b[39;00m(msg) \u001b[38;5;28;01mfrom\u001b[39;00m \u001b[38;5;28;01mNone\u001b[39;00m\n\u001b[1;32m   1246\u001b[0m \u001b[38;5;28;01mexcept\u001b[39;00m \u001b[38;5;167;01mException\u001b[39;00m:\n\u001b[1;32m   1247\u001b[0m     \u001b[38;5;28mself\u001b[39m\u001b[38;5;241m.\u001b[39mlog\u001b[38;5;241m.\u001b[39mwarning(\u001b[38;5;124m\"\u001b[39m\u001b[38;5;124mInvalid Message:\u001b[39m\u001b[38;5;124m\"\u001b[39m, exc_info\u001b[38;5;241m=\u001b[39m\u001b[38;5;28;01mTrue\u001b[39;00m)\n",
      "\u001b[0;31mKeyboardInterrupt\u001b[0m: Interrupted by user"
     ]
    }
   ],
   "source": [
    "cont = 'yes'\n",
    "while cont.lower() == 'yes':\n",
    "    numb = int(input('Enter a number: '))\n",
    "    print(f'number | square | cube')\n",
    "    print(f'-------|--------|-------')\n",
    "    \n",
    "    for i in range(1,numb+1):\n",
    "        print(f'{i:<7}|{i**2:<8}|{i**3:<7}')\n",
    "    cont = input('Would you like to continue (yes/no)')"
   ]
  },
  {
   "cell_type": "markdown",
   "id": "d6f7d438",
   "metadata": {},
   "source": [
    "4. Display a table of powers.\n",
    "\n",
    "Prompt the user to enter an integer\n",
    "Display a table of squares and cubes from 1 to the value entered\n",
    "Ask if the user wants to continue\n",
    "Assume that the user will enter valid data\n",
    "Only continue if the user agrees to"
   ]
  },
  {
   "cell_type": "code",
   "execution_count": 74,
   "id": "5cc32445",
   "metadata": {},
   "outputs": [
    {
     "name": "stdout",
     "output_type": "stream",
     "text": [
      "Enter an integer: 13\n",
      "Number | Square | Cube\n",
      "------ | ------ | ----\n",
      "     1 |      1 |    1\n",
      "     2 |      4 |    8\n",
      "     3 |      9 |   27\n",
      "     4 |     16 |   64\n",
      "     5 |     25 |  125\n",
      "     6 |     36 |  216\n",
      "     7 |     49 |  343\n",
      "     8 |     64 |  512\n",
      "     9 |     81 |  729\n",
      "    10 |    100 | 1000\n",
      "    11 |    121 | 1331\n",
      "    12 |    144 | 1728\n",
      "    13 |    169 | 2197\n",
      "Do you want to continue? (yes/no): no\n"
     ]
    }
   ],
   "source": [
    "while True:\n",
    "    # Prompt the user to enter an integer\n",
    "    num = int(input(\"Enter an integer: \"))\n",
    "    \n",
    "    # Display a table of squares and cubes from 1 to the entered value\n",
    "    print(\"Number | Square | Cube\")\n",
    "    print(\"------ | ------ | ----\")\n",
    "    \n",
    "    for i in range(1, num + 1):\n",
    "        square = i ** 2\n",
    "        cube = i ** 3\n",
    "        print(f\"{i:6} | {square:6} | {cube:4}\")\n",
    "\n",
    "    # Ask if the user wants to continue\n",
    "    choice = input(\"Do you want to continue? (yes/no): \")\n",
    "    \n",
    "    if choice.lower() != \"yes\":\n",
    "        break\n"
   ]
  },
  {
   "cell_type": "markdown",
   "id": "e3900992",
   "metadata": {},
   "source": [
    "5. Convert given number grades into letter grades.\n",
    "\n",
    "Prompt the user for a numerical grade from 0 to 100\n",
    "Display the corresponding letter grade\n",
    "Prompt the user to continue\n",
    "Assume that the user will enter valid integers for the grades\n",
    "The application should only continue if the user agrees to\n",
    "Grade Ranges:\n",
    "\n",
    "A : 100 - 88\n",
    "B : 87 - 80\n",
    "C : 79 - 67\n",
    "D : 66 - 60\n",
    "F : 59 - 0"
   ]
  },
  {
   "cell_type": "code",
   "execution_count": null,
   "id": "05834f42",
   "metadata": {},
   "outputs": [],
   "source": [
    "while True:\n",
    "    # Prompt the user for a numerical grade\n",
    "    numerical_grade = int(input(\"Enter a numerical grade (0-100): \"))\n",
    "    \n",
    "    # Determine the corresponding letter grade\n",
    "    if 88 <= numerical_grade <= 100:\n",
    "        letter_grade = \"A\"\n",
    "    elif 80 <= numerical_grade <= 87:\n",
    "        letter_grade = \"B\"\n",
    "    elif 67 <= numerical_grade <= 79:\n",
    "        letter_grade = \"C\"\n",
    "    elif 60 <= numerical_grade <= 66:\n",
    "        letter_grade = \"D\"\n",
    "    else:\n",
    "        letter_grade = \"F\"\n",
    "    \n",
    "    # Display the corresponding letter grade\n",
    "    print(f\"Numerical Grade: {numerical_grade} => Letter Grade: {letter_grade}\")\n",
    "\n",
    "    # Ask if the user wants to continue\n",
    "    choice = input(\"Do you want to continue? (yes/no): \")\n",
    "    \n",
    "    if choice.lower() != \"yes\":\n",
    "        break\n"
   ]
  },
  {
   "cell_type": "code",
   "execution_count": null,
   "id": "cb24a8a2",
   "metadata": {},
   "outputs": [],
   "source": [
    "if grade >= 88:\n",
    "    print('A')\n",
    "if grade <= 80:\n",
    "    print('B')\n",
    "if grade <= 67:\n",
    "    print('C')\n",
    "if grade >= 60:\n",
    "    print('D')\n",
    "else:\n",
    "    print('F')"
   ]
  },
  {
   "cell_type": "markdown",
   "id": "33c172a1",
   "metadata": {},
   "source": [
    "6. Create a list of dictionaries where each dictionary represents a book that you have read. Each dictionary in the list should have the keys title, author, and genre. Loop through the list and print out information about each book.\n",
    "\n",
    "Prompt the user to enter a genre, then loop through your books list and print out the titles of all the books in that genre."
   ]
  },
  {
   "cell_type": "code",
   "execution_count": 175,
   "id": "5d7b33ea",
   "metadata": {
    "scrolled": true
   },
   "outputs": [
    {
     "name": "stdout",
     "output_type": "stream",
     "text": [
      "Title: Harry Potter\n",
      "Author: JK Rowling\n",
      "Genre: Fantasy\n",
      "\n",
      "Title: Bible\n",
      "Author: Jesus\n",
      "Genre: Science Fiction\n",
      "\n",
      "Title: Python For Dummies\n",
      "Author: The Innernet\n",
      "Genre: Mystery\n",
      "\n",
      "Title: Quack\n",
      "Author: Perry the Platypus\n",
      "Genre: Fantasy\n",
      "\n",
      "Title: Cat in the Hat\n",
      "Author: Dr. Suess\n",
      "Genre: Science Fiction\n",
      "\n",
      "Enter a genre to filter books: Fantasy\n",
      "Books in the Fantasy genre:\n",
      "Harry Potter\n",
      "Genre does not exist\n"
     ]
    }
   ],
   "source": [
    "# Create a list of dictionaries representing books\n",
    "books = [\n",
    "    {\"title\": \"Harry Potter\", \"author\": \"JK Rowling\", \"genre\": \"Fantasy\"},\n",
    "    {\"title\": \"Bible\", \"author\": \"Jesus\", \"genre\": \"Science Fiction\"},\n",
    "    {\"title\": \"Python For Dummies\", \"author\": \"The Innernet\", \"genre\": \"Mystery\"},\n",
    "    {\"title\": \"Quack\", \"author\": \"Perry the Platypus\", \"genre\": \"Fantasy\"},\n",
    "    {\"title\": \"Cat in the Hat\", \"author\": \"Dr. Suess\", \"genre\": \"Science Fiction\"}\n",
    "]\n",
    "\n",
    "# Loop through the list and print information about each book\n",
    "for book in books:\n",
    "    print(f\"Title: {book['title']}\")\n",
    "    print(f\"Author: {book['author']}\")\n",
    "    print(f\"Genre: {book['genre']}\")\n",
    "    print()\n",
    "\n",
    "# Prompt the user to enter a genre\n",
    "user_genre = input(\"Enter a genre to filter books: \")\n",
    "\n",
    "# Loop through the books list and print titles of books in the specified genre\n",
    "print(f\"Books in the {user_genre} genre:\")\n",
    "for book in books:\n",
    "    if book['genre'] == user_genre:\n",
    "        print(book['title'])\n",
    "    else:\n",
    "        print('Genre does not exist')\n",
    "        break"
   ]
  },
  {
   "cell_type": "code",
   "execution_count": null,
   "id": "40328496",
   "metadata": {},
   "outputs": [],
   "source": []
  }
 ],
 "metadata": {
  "kernelspec": {
   "display_name": "Python 3 (ipykernel)",
   "language": "python",
   "name": "python3"
  },
  "language_info": {
   "codemirror_mode": {
    "name": "ipython",
    "version": 3
   },
   "file_extension": ".py",
   "mimetype": "text/x-python",
   "name": "python",
   "nbconvert_exporter": "python",
   "pygments_lexer": "ipython3",
   "version": "3.11.5"
  }
 },
 "nbformat": 4,
 "nbformat_minor": 5
}
