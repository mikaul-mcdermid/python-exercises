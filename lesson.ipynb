{
 "cells": [
  {
   "cell_type": "markdown",
   "id": "e42b08ba",
   "metadata": {},
   "source": [
    "For Loop + While Loop"
   ]
  },
  {
   "cell_type": "code",
   "execution_count": 1,
   "id": "8cc11958",
   "metadata": {},
   "outputs": [
    {
     "name": "stdout",
     "output_type": "stream",
     "text": [
      "How much candy did you eat? Enter an integer. 7\n",
      "\n",
      "Aight, you good dawg\n",
      "Do you dare continue? y/n n\n"
     ]
    }
   ],
   "source": [
    "'''\n",
    "Create a program that collects user input and asks them how much candy thay consumed and also checks if they wish to continue\n",
    "'''\n",
    "\n",
    "#candy_consumption = int(input('How much candy did you eat? Enter a numerical amount. ')) #obtain candy amount\n",
    "keep_going = 'y'\n",
    "#keep_going = input(\"Do you wish to continue? y/n \")\n",
    "while keep_going.lower() == 'y':\n",
    "    candy_consumption = int(input('How much candy did you eat? Enter an integer. '))\n",
    "    #output message based on candy amt\n",
    "    if candy_consumption > 20:\n",
    "        print(f\"\\nGOOD GOD!{candy_consumption}  MY LORD DATS TOO MUCH\")\n",
    "        keep_going = input('Do you dare continue?y/n ?')\n",
    "    else: \n",
    "        print(f\"\\nAight, you good dawg\")\n",
    "        keep_going = input(\"Do you dare continue? y/n \")"
   ]
  },
  {
   "cell_type": "markdown",
   "id": "91e42526",
   "metadata": {},
   "source": [
    "Range()"
   ]
  },
  {
   "cell_type": "code",
   "execution_count": 8,
   "id": "4a1900c2",
   "metadata": {},
   "outputs": [
    {
     "name": "stdout",
     "output_type": "stream",
     "text": [
      "1\n",
      "4\n",
      "7\n",
      "10\n"
     ]
    }
   ],
   "source": [
    "for i in range(1,11,3):\n",
    "    print(i)\n",
    "#range is not inclusive"
   ]
  },
  {
   "cell_type": "markdown",
   "id": "23715edd",
   "metadata": {},
   "source": [
    "Continue+Break"
   ]
  },
  {
   "cell_type": "code",
   "execution_count": 8,
   "id": "4f0e927f",
   "metadata": {},
   "outputs": [
    {
     "name": "stdout",
     "output_type": "stream",
     "text": [
      "JYES\n",
      "JYES\n",
      "JYES\n",
      "JYES\n",
      "JYES\n",
      "JYES\n",
      "JYES\n",
      "JYES\n",
      "JYES\n"
     ]
    }
   ],
   "source": [
    "for i in range(1,11):\n",
    "    if i == 3:\n",
    "        continue\n",
    "        print(i)\n",
    "    print('JYES')"
   ]
  },
  {
   "cell_type": "code",
   "execution_count": 9,
   "id": "da27994e",
   "metadata": {},
   "outputs": [
    {
     "name": "stdout",
     "output_type": "stream",
     "text": [
      "1\n",
      "JYES\n",
      "2\n",
      "JYES\n",
      "4\n",
      "JYES\n",
      "5\n",
      "JYES\n",
      "6\n",
      "JYES\n",
      "7\n",
      "JYES\n",
      "8\n",
      "JYES\n",
      "9\n",
      "JYES\n",
      "10\n",
      "JYES\n"
     ]
    }
   ],
   "source": [
    "for i in range(1,11):\n",
    "    if i == 3:\n",
    "        continue #skips a value\n",
    "    print(i)\n",
    "    print('JYES')"
   ]
  },
  {
   "cell_type": "markdown",
   "id": "67c5d28e",
   "metadata": {},
   "source": [
    "List Comprehension"
   ]
  },
  {
   "cell_type": "code",
   "execution_count": 11,
   "id": "5ebb65b3",
   "metadata": {},
   "outputs": [
    {
     "data": {
      "text/plain": [
       "[3]"
      ]
     },
     "execution_count": 11,
     "metadata": {},
     "output_type": "execute_result"
    }
   ],
   "source": [
    "# for i in range(1,11):\n",
    "#     if i == 3:\n",
    "#         continue #skips a value\n",
    "#     print(i)\n",
    "#     print('JYES')\n",
    "\n",
    "[i for i in range(1,11) if i == 3]"
   ]
  },
  {
   "cell_type": "code",
   "execution_count": 13,
   "id": "962fd2ba",
   "metadata": {},
   "outputs": [
    {
     "data": {
      "text/plain": [
       "[1, 2, 3, 4, 5, 6, 7, 8, 9, 10]"
      ]
     },
     "execution_count": 13,
     "metadata": {},
     "output_type": "execute_result"
    }
   ],
   "source": [
    "[i for i in range(1,11)]"
   ]
  },
  {
   "cell_type": "code",
   "execution_count": 15,
   "id": "78dbe91d",
   "metadata": {},
   "outputs": [],
   "source": [
    "x = [i for i in range(1,11)]"
   ]
  },
  {
   "cell_type": "code",
   "execution_count": 16,
   "id": "a41c4cc2",
   "metadata": {},
   "outputs": [
    {
     "ename": "TypeError",
     "evalue": "'>' not supported between instances of 'list' and 'int'",
     "output_type": "error",
     "traceback": [
      "\u001b[0;31m---------------------------------------------------------------------------\u001b[0m",
      "\u001b[0;31mTypeError\u001b[0m                                 Traceback (most recent call last)",
      "Cell \u001b[0;32mIn[16], line 1\u001b[0m\n\u001b[0;32m----> 1\u001b[0m x[x\u001b[38;5;241m>\u001b[39m\u001b[38;5;241m3\u001b[39m \u001b[38;5;129;01mand\u001b[39;00m x\u001b[38;5;241m<\u001b[39m\u001b[38;5;241m3\u001b[39m]\n",
      "\u001b[0;31mTypeError\u001b[0m: '>' not supported between instances of 'list' and 'int'"
     ]
    }
   ],
   "source": [
    "x[x>3 and x<3]"
   ]
  }
 ],
 "metadata": {
  "kernelspec": {
   "display_name": "Python 3 (ipykernel)",
   "language": "python",
   "name": "python3"
  },
  "language_info": {
   "codemirror_mode": {
    "name": "ipython",
    "version": 3
   },
   "file_extension": ".py",
   "mimetype": "text/x-python",
   "name": "python",
   "nbconvert_exporter": "python",
   "pygments_lexer": "ipython3",
   "version": "3.11.5"
  }
 },
 "nbformat": 4,
 "nbformat_minor": 5
}
