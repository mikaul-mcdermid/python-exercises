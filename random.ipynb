{
 "cells": [
  {
   "cell_type": "code",
   "execution_count": 6,
   "id": "93ff93ec",
   "metadata": {},
   "outputs": [
    {
     "name": "stdout",
     "output_type": "stream",
     "text": [
      "Cole World.\n"
     ]
    }
   ],
   "source": [
    "temperature = 11\n",
    "if temperature > 30:\n",
    "    print(\"It's hot out.\")\n",
    "elif temperature >= 15 and temperature <= 30:\n",
    "    print(\"It's nice out.\")\n",
    "else:\n",
    "    print(\"Cole World.\")"
   ]
  },
  {
   "cell_type": "code",
   "execution_count": 9,
   "id": "78ebdbd5",
   "metadata": {},
   "outputs": [
    {
     "name": "stdout",
     "output_type": "stream",
     "text": [
      "What's your name?jk\n",
      "Your name is too short.\n"
     ]
    }
   ],
   "source": [
    "name = input('What\\'s your name?')\n",
    "if len(name) < 3:\n",
    "    print(\"Your name is too short.\")\n",
    "elif len(name) > 3 and len(name) < 50:\n",
    "    print('Looks good to me.')\n",
    "else:\n",
    "    print(\"Name too long.\")"
   ]
  },
  {
   "cell_type": "code",
   "execution_count": 16,
   "id": "752d9064",
   "metadata": {},
   "outputs": [
    {
     "name": "stdout",
     "output_type": "stream",
     "text": [
      "what is your weight?\n",
      "198\n",
      "Is that in (K)gs or (L)bs?l\n",
      "You weight 89.10000000000001 kgs.\n"
     ]
    }
   ],
   "source": [
    "weight = int(input(\"what is your weight?\\n\"))\n",
    "scale = input(\"Is that in (K)gs or (L)bs?\")\n",
    "kgs = float(weight) * .45\n",
    "lbs = float(weight) * 2.2\n",
    "if scale.lower() == 'k':\n",
    "    print(f'You weigh {lbs} lbs.')\n",
    "else:\n",
    "    print(f'You weight {kgs} kgs.')\n"
   ]
  },
  {
   "cell_type": "code",
   "execution_count": 19,
   "id": "132be629",
   "metadata": {
    "scrolled": true
   },
   "outputs": [
    {
     "name": "stdout",
     "output_type": "stream",
     "text": [
      "1\n",
      "2\n",
      "3\n",
      "4\n",
      "Done\n"
     ]
    }
   ],
   "source": [
    "i = 1\n",
    "while i < 5:\n",
    "    print(i)\n",
    "    i +=1\n",
    "print('Done')"
   ]
  },
  {
   "cell_type": "code",
   "execution_count": 21,
   "id": "8acb3702",
   "metadata": {},
   "outputs": [
    {
     "name": "stdout",
     "output_type": "stream",
     "text": [
      "1\n",
      "2\n",
      "3\n",
      "4\n",
      "5\n",
      "Done\n"
     ]
    }
   ],
   "source": [
    "i = 1\n",
    "while i <= 5:\n",
    "    print(i)\n",
    "    i +=1\n",
    "print('Done')"
   ]
  },
  {
   "cell_type": "code",
   "execution_count": 25,
   "id": "8001547b",
   "metadata": {},
   "outputs": [
    {
     "name": "stdout",
     "output_type": "stream",
     "text": [
      "*\n",
      "**\n",
      "***\n",
      "****\n",
      "*****\n",
      "Done\n"
     ]
    }
   ],
   "source": [
    "i = 1\n",
    "while i <= 5:\n",
    "    print('*' * i )\n",
    "    i +=1\n",
    "print('Done')"
   ]
  },
  {
   "cell_type": "code",
   "execution_count": 35,
   "id": "112864c5",
   "metadata": {},
   "outputs": [
    {
     "name": "stdout",
     "output_type": "stream",
     "text": [
      "Guess the secret number:\n",
      "1\n",
      "Nope, guess again.\n",
      "Guess the secret number:\n",
      "1\n",
      "Nope, guess again.\n",
      "Guess the secret number:\n",
      "1\n",
      "Failure\n"
     ]
    }
   ],
   "source": [
    "secret_num = 8\n",
    "count = 0\n",
    "limit = 3\n",
    "while count < limit:\n",
    "    guess = int(input(\"Guess the secret number:\\n\"))\n",
    "    count +=1\n",
    "    if guess == 8:\n",
    "        print(\"You guessed the right answer!\")\n",
    "        break\n",
    "    elif count != 3:\n",
    "        print(\"Nope, guess again.\")\n",
    "else:\n",
    "    print(\"Failure\")\n",
    "    "
   ]
  },
  {
   "cell_type": "code",
   "execution_count": null,
   "id": "270a6ef6",
   "metadata": {},
   "outputs": [],
   "source": []
  },
  {
   "cell_type": "code",
   "execution_count": 86,
   "id": "30d94ff2",
   "metadata": {
    "scrolled": true
   },
   "outputs": [
    {
     "ename": "KeyboardInterrupt",
     "evalue": "Interrupted by user",
     "output_type": "error",
     "traceback": [
      "\u001b[0;31m---------------------------------------------------------------------------\u001b[0m",
      "\u001b[0;31mKeyboardInterrupt\u001b[0m                         Traceback (most recent call last)",
      "Cell \u001b[0;32mIn[86], line 6\u001b[0m\n\u001b[1;32m      4\u001b[0m \u001b[38;5;28;01mwhile\u001b[39;00m \u001b[38;5;28;01mTrue\u001b[39;00m: \n\u001b[1;32m      5\u001b[0m     command \u001b[38;5;241m!=\u001b[39m \u001b[38;5;124m\"\u001b[39m\u001b[38;5;124mquit\u001b[39m\u001b[38;5;124m\"\u001b[39m\n\u001b[0;32m----> 6\u001b[0m     command \u001b[38;5;241m=\u001b[39m \u001b[38;5;28minput\u001b[39m(\u001b[38;5;124m\"\u001b[39m\u001b[38;5;124m> \u001b[39m\u001b[38;5;124m\"\u001b[39m)\u001b[38;5;241m.\u001b[39mlower()\n\u001b[1;32m      7\u001b[0m     \u001b[38;5;28;01mif\u001b[39;00m command \u001b[38;5;241m==\u001b[39m \u001b[38;5;124m'\u001b[39m\u001b[38;5;124mstart\u001b[39m\u001b[38;5;124m'\u001b[39m:\n\u001b[1;32m      8\u001b[0m         \u001b[38;5;28;01mif\u001b[39;00m started:\n",
      "File \u001b[0;32m/opt/homebrew/anaconda3/lib/python3.11/site-packages/ipykernel/kernelbase.py:1202\u001b[0m, in \u001b[0;36mKernel.raw_input\u001b[0;34m(self, prompt)\u001b[0m\n\u001b[1;32m   1200\u001b[0m     msg \u001b[38;5;241m=\u001b[39m \u001b[38;5;124m\"\u001b[39m\u001b[38;5;124mraw_input was called, but this frontend does not support input requests.\u001b[39m\u001b[38;5;124m\"\u001b[39m\n\u001b[1;32m   1201\u001b[0m     \u001b[38;5;28;01mraise\u001b[39;00m StdinNotImplementedError(msg)\n\u001b[0;32m-> 1202\u001b[0m \u001b[38;5;28;01mreturn\u001b[39;00m \u001b[38;5;28mself\u001b[39m\u001b[38;5;241m.\u001b[39m_input_request(\n\u001b[1;32m   1203\u001b[0m     \u001b[38;5;28mstr\u001b[39m(prompt),\n\u001b[1;32m   1204\u001b[0m     \u001b[38;5;28mself\u001b[39m\u001b[38;5;241m.\u001b[39m_parent_ident[\u001b[38;5;124m\"\u001b[39m\u001b[38;5;124mshell\u001b[39m\u001b[38;5;124m\"\u001b[39m],\n\u001b[1;32m   1205\u001b[0m     \u001b[38;5;28mself\u001b[39m\u001b[38;5;241m.\u001b[39mget_parent(\u001b[38;5;124m\"\u001b[39m\u001b[38;5;124mshell\u001b[39m\u001b[38;5;124m\"\u001b[39m),\n\u001b[1;32m   1206\u001b[0m     password\u001b[38;5;241m=\u001b[39m\u001b[38;5;28;01mFalse\u001b[39;00m,\n\u001b[1;32m   1207\u001b[0m )\n",
      "File \u001b[0;32m/opt/homebrew/anaconda3/lib/python3.11/site-packages/ipykernel/kernelbase.py:1245\u001b[0m, in \u001b[0;36mKernel._input_request\u001b[0;34m(self, prompt, ident, parent, password)\u001b[0m\n\u001b[1;32m   1242\u001b[0m \u001b[38;5;28;01mexcept\u001b[39;00m \u001b[38;5;167;01mKeyboardInterrupt\u001b[39;00m:\n\u001b[1;32m   1243\u001b[0m     \u001b[38;5;66;03m# re-raise KeyboardInterrupt, to truncate traceback\u001b[39;00m\n\u001b[1;32m   1244\u001b[0m     msg \u001b[38;5;241m=\u001b[39m \u001b[38;5;124m\"\u001b[39m\u001b[38;5;124mInterrupted by user\u001b[39m\u001b[38;5;124m\"\u001b[39m\n\u001b[0;32m-> 1245\u001b[0m     \u001b[38;5;28;01mraise\u001b[39;00m \u001b[38;5;167;01mKeyboardInterrupt\u001b[39;00m(msg) \u001b[38;5;28;01mfrom\u001b[39;00m \u001b[38;5;28;01mNone\u001b[39;00m\n\u001b[1;32m   1246\u001b[0m \u001b[38;5;28;01mexcept\u001b[39;00m \u001b[38;5;167;01mException\u001b[39;00m:\n\u001b[1;32m   1247\u001b[0m     \u001b[38;5;28mself\u001b[39m\u001b[38;5;241m.\u001b[39mlog\u001b[38;5;241m.\u001b[39mwarning(\u001b[38;5;124m\"\u001b[39m\u001b[38;5;124mInvalid Message:\u001b[39m\u001b[38;5;124m\"\u001b[39m, exc_info\u001b[38;5;241m=\u001b[39m\u001b[38;5;28;01mTrue\u001b[39;00m)\n",
      "\u001b[0;31mKeyboardInterrupt\u001b[0m: Interrupted by user"
     ]
    }
   ],
   "source": [
    "command = \"\"\n",
    "started = False\n",
    "stopped = False\n",
    "while True: \n",
    "    command != \"quit\"\n",
    "    command = input(\"> \").lower()\n",
    "    if command == 'start':\n",
    "        if started:\n",
    "            print('The car is already started...')\n",
    "        else:\n",
    "            started = True\n",
    "            print('The car is started, leggo!')\n",
    "    elif command == 'stop':\n",
    "        if not started:\n",
    "            print('The car isn\\'t started yet...')\n",
    "        else:\n",
    "            stopped = False\n",
    "            print('Car stopped.')\n",
    "            if stopped == True:\n",
    "                print('The car is already stopped...')\n",
    "    elif command == 'help':\n",
    "        print(\"\"\"\n",
    "            Start - to start the car\n",
    "            Stop - to stop the car\n",
    "            Quit - to exit the program\n",
    "            \"\"\")\n",
    "    elif command == \"quit\":\n",
    "        break\n",
    "    else:\n",
    "        print(\"I don't understand that command.\")\n"
   ]
  },
  {
   "cell_type": "code",
   "execution_count": 88,
   "id": "a26eda49",
   "metadata": {},
   "outputs": [
    {
     "ename": "KeyboardInterrupt",
     "evalue": "Interrupted by user",
     "output_type": "error",
     "traceback": [
      "\u001b[0;31m---------------------------------------------------------------------------\u001b[0m",
      "\u001b[0;31mKeyboardInterrupt\u001b[0m                         Traceback (most recent call last)",
      "Cell \u001b[0;32mIn[88], line 1\u001b[0m\n\u001b[0;32m----> 1\u001b[0m weight_lbs \u001b[38;5;241m=\u001b[39m \u001b[38;5;28minput\u001b[39m(\u001b[38;5;124m\"\u001b[39m\u001b[38;5;124mWhat is your weight in lbs? Please enter a number.\u001b[39m\u001b[38;5;130;01m\\n\u001b[39;00m\u001b[38;5;124m\"\u001b[39m)\n\u001b[1;32m      2\u001b[0m weight_kg \u001b[38;5;241m=\u001b[39m \u001b[38;5;28mfloat\u001b[39m(weight_lbs) \u001b[38;5;241m*\u001b[39m \u001b[38;5;241m2.2\u001b[39m\n\u001b[1;32m      3\u001b[0m \u001b[38;5;28mprint\u001b[39m(\u001b[38;5;124mf\u001b[39m\u001b[38;5;124m'\u001b[39m\u001b[38;5;124mYour weight in kilograms is \u001b[39m\u001b[38;5;132;01m{\u001b[39;00mweight_kg\u001b[38;5;132;01m}\u001b[39;00m\u001b[38;5;124m'\u001b[39m)\n",
      "File \u001b[0;32m/opt/homebrew/anaconda3/lib/python3.11/site-packages/ipykernel/kernelbase.py:1202\u001b[0m, in \u001b[0;36mKernel.raw_input\u001b[0;34m(self, prompt)\u001b[0m\n\u001b[1;32m   1200\u001b[0m     msg \u001b[38;5;241m=\u001b[39m \u001b[38;5;124m\"\u001b[39m\u001b[38;5;124mraw_input was called, but this frontend does not support input requests.\u001b[39m\u001b[38;5;124m\"\u001b[39m\n\u001b[1;32m   1201\u001b[0m     \u001b[38;5;28;01mraise\u001b[39;00m StdinNotImplementedError(msg)\n\u001b[0;32m-> 1202\u001b[0m \u001b[38;5;28;01mreturn\u001b[39;00m \u001b[38;5;28mself\u001b[39m\u001b[38;5;241m.\u001b[39m_input_request(\n\u001b[1;32m   1203\u001b[0m     \u001b[38;5;28mstr\u001b[39m(prompt),\n\u001b[1;32m   1204\u001b[0m     \u001b[38;5;28mself\u001b[39m\u001b[38;5;241m.\u001b[39m_parent_ident[\u001b[38;5;124m\"\u001b[39m\u001b[38;5;124mshell\u001b[39m\u001b[38;5;124m\"\u001b[39m],\n\u001b[1;32m   1205\u001b[0m     \u001b[38;5;28mself\u001b[39m\u001b[38;5;241m.\u001b[39mget_parent(\u001b[38;5;124m\"\u001b[39m\u001b[38;5;124mshell\u001b[39m\u001b[38;5;124m\"\u001b[39m),\n\u001b[1;32m   1206\u001b[0m     password\u001b[38;5;241m=\u001b[39m\u001b[38;5;28;01mFalse\u001b[39;00m,\n\u001b[1;32m   1207\u001b[0m )\n",
      "File \u001b[0;32m/opt/homebrew/anaconda3/lib/python3.11/site-packages/ipykernel/kernelbase.py:1245\u001b[0m, in \u001b[0;36mKernel._input_request\u001b[0;34m(self, prompt, ident, parent, password)\u001b[0m\n\u001b[1;32m   1242\u001b[0m \u001b[38;5;28;01mexcept\u001b[39;00m \u001b[38;5;167;01mKeyboardInterrupt\u001b[39;00m:\n\u001b[1;32m   1243\u001b[0m     \u001b[38;5;66;03m# re-raise KeyboardInterrupt, to truncate traceback\u001b[39;00m\n\u001b[1;32m   1244\u001b[0m     msg \u001b[38;5;241m=\u001b[39m \u001b[38;5;124m\"\u001b[39m\u001b[38;5;124mInterrupted by user\u001b[39m\u001b[38;5;124m\"\u001b[39m\n\u001b[0;32m-> 1245\u001b[0m     \u001b[38;5;28;01mraise\u001b[39;00m \u001b[38;5;167;01mKeyboardInterrupt\u001b[39;00m(msg) \u001b[38;5;28;01mfrom\u001b[39;00m \u001b[38;5;28;01mNone\u001b[39;00m\n\u001b[1;32m   1246\u001b[0m \u001b[38;5;28;01mexcept\u001b[39;00m \u001b[38;5;167;01mException\u001b[39;00m:\n\u001b[1;32m   1247\u001b[0m     \u001b[38;5;28mself\u001b[39m\u001b[38;5;241m.\u001b[39mlog\u001b[38;5;241m.\u001b[39mwarning(\u001b[38;5;124m\"\u001b[39m\u001b[38;5;124mInvalid Message:\u001b[39m\u001b[38;5;124m\"\u001b[39m, exc_info\u001b[38;5;241m=\u001b[39m\u001b[38;5;28;01mTrue\u001b[39;00m)\n",
      "\u001b[0;31mKeyboardInterrupt\u001b[0m: Interrupted by user"
     ]
    }
   ],
   "source": [
    "weight_lbs = input(\"What is your weight in lbs? Please enter a number.\\n\")\n",
    "weight_kg = float(weight_lbs) * 2.2\n",
    "print(f'Your weight in kilograms is {weight_kg}')"
   ]
  },
  {
   "cell_type": "code",
   "execution_count": null,
   "id": "31ee89f4",
   "metadata": {},
   "outputs": [],
   "source": [
    "house_price = 1000000\n",
    "good_credit = True\n",
    "bad_credit = True\n",
    "ten_percent = house_price * .1\n",
    "twenty_percent = house_price * .2\n",
    "good = input('Do you have good or bad credit?\\n')\n",
    "if good_credit.lower():\n",
    "    print('The price of your down payment will be ' + str(ten_percent))\n",
    "elif:\n",
    "    print('The price of your down payment will be ' + str(twenty_percent))\n"
   ]
  },
  {
   "cell_type": "code",
   "execution_count": null,
   "id": "9c80fd53",
   "metadata": {},
   "outputs": [],
   "source": [
    "name = input('What is your name?\\n')\n",
    "fav_color = input('What is your favorite color?\\n')\n",
    "print(f\"Your name is {name} and your favorite color is {fav_color.lower()}.\")"
   ]
  },
  {
   "cell_type": "code",
   "execution_count": 83,
   "id": "9f842344",
   "metadata": {},
   "outputs": [
    {
     "name": "stdout",
     "output_type": "stream",
     "text": [
      "P\n",
      "y\n",
      "t\n",
      "h\n",
      "o\n",
      "n\n"
     ]
    }
   ],
   "source": [
    "for item in 'Python':\n",
    "    print(item)"
   ]
  },
  {
   "cell_type": "code",
   "execution_count": null,
   "id": "2ae390e9",
   "metadata": {},
   "outputs": [],
   "source": [
    "for item in ['Python', 'Mikaul', 'Ken', 'Ryu', 'Chun', 'Codeup', 'Mosh']:\n",
    "    print(item)"
   ]
  },
  {
   "cell_type": "code",
   "execution_count": 92,
   "id": "974878c9",
   "metadata": {},
   "outputs": [
    {
     "name": "stdout",
     "output_type": "stream",
     "text": [
      "1\n",
      "2\n",
      "3\n",
      "4\n",
      "5\n",
      "6\n",
      "7\n",
      "8\n",
      "9\n",
      "0\n"
     ]
    }
   ],
   "source": [
    "for item in [1,2,3,4,5,6,7,8,9,0]:\n",
    "    print(item)"
   ]
  },
  {
   "cell_type": "code",
   "execution_count": 95,
   "id": "ad5c8da1",
   "metadata": {},
   "outputs": [
    {
     "name": "stdout",
     "output_type": "stream",
     "text": [
      "0\n",
      "1\n",
      "2\n",
      "3\n",
      "4\n",
      "5\n",
      "6\n",
      "7\n",
      "8\n",
      "9\n",
      "10\n"
     ]
    }
   ],
   "source": [
    "for item in range(11):\n",
    "    print(item)"
   ]
  },
  {
   "cell_type": "code",
   "execution_count": 97,
   "id": "2d8b634d",
   "metadata": {},
   "outputs": [
    {
     "name": "stdout",
     "output_type": "stream",
     "text": [
      "5\n",
      "6\n",
      "7\n",
      "8\n",
      "9\n",
      "10\n"
     ]
    }
   ],
   "source": [
    "for item in range(5, 11):\n",
    "    print(item)"
   ]
  },
  {
   "cell_type": "code",
   "execution_count": 99,
   "id": "55267d6e",
   "metadata": {},
   "outputs": [
    {
     "name": "stdout",
     "output_type": "stream",
     "text": [
      "5\n",
      "7\n",
      "9\n"
     ]
    }
   ],
   "source": [
    "for item in range(5, 11, 2):\n",
    "    print(item)"
   ]
  },
  {
   "cell_type": "code",
   "execution_count": 101,
   "id": "1258447b",
   "metadata": {},
   "outputs": [
    {
     "data": {
      "text/plain": [
       "374.61"
      ]
     },
     "execution_count": 101,
     "metadata": {},
     "output_type": "execute_result"
    }
   ],
   "source": [
    "prices = [4.99, 12.99, 47.97, 24.2, 30, 99.99, 49.18, 28.36, 76.93]\n",
    "sum(prices)"
   ]
  },
  {
   "cell_type": "code",
   "execution_count": 107,
   "id": "e3875f66",
   "metadata": {},
   "outputs": [
    {
     "name": "stdout",
     "output_type": "stream",
     "text": [
      "Total; 374.61\n"
     ]
    }
   ],
   "source": [
    "prices = [4.99, 12.99, 47.97, 24.2, 30, 99.99, 49.18, 28.36, 76.93]\n",
    "total = 0\n",
    "for price in prices:\n",
    "    total += price\n",
    "print(f'Total; {total}')\n"
   ]
  },
  {
   "cell_type": "code",
   "execution_count": 113,
   "id": "5c8aed7d",
   "metadata": {},
   "outputs": [
    {
     "name": "stdout",
     "output_type": "stream",
     "text": [
      "0,0\n",
      "0,1\n",
      "0,2\n",
      "0,3\n",
      "1,0\n",
      "1,1\n",
      "1,2\n",
      "1,3\n",
      "2,0\n",
      "2,1\n",
      "2,2\n",
      "2,3\n",
      "3,0\n",
      "3,1\n",
      "3,2\n",
      "3,3\n"
     ]
    }
   ],
   "source": [
    "for x in range(4):\n",
    "    for y in range(4):\n",
    "        print(f'{x},{y}')"
   ]
  },
  {
   "cell_type": "code",
   "execution_count": 124,
   "id": "78788fd0",
   "metadata": {},
   "outputs": [
    {
     "name": "stdout",
     "output_type": "stream",
     "text": [
      "xxxxx\n",
      "xx\n",
      "xxxxx\n",
      "xx\n",
      "xx\n"
     ]
    }
   ],
   "source": [
    "numbers = [5,2,5,2,2]\n",
    "for i in numbers:\n",
    "    print(\"x\" * i)"
   ]
  },
  {
   "cell_type": "code",
   "execution_count": null,
   "id": "85647386",
   "metadata": {},
   "outputs": [],
   "source": []
  },
  {
   "cell_type": "code",
   "execution_count": 125,
   "id": "8ed47127",
   "metadata": {},
   "outputs": [
    {
     "name": "stdout",
     "output_type": "stream",
     "text": [
      "xxxxx\n",
      "xx\n",
      "xxxxx\n",
      "xx\n",
      "xx\n"
     ]
    }
   ],
   "source": [
    "numbers = [5,2,5,2,2]\n",
    "for x_count in numbers:\n",
    "    output = ''\n",
    "    for count in range(x_count):\n",
    "        output += 'x'\n",
    "    print(output)"
   ]
  },
  {
   "cell_type": "code",
   "execution_count": 4,
   "id": "94271ce3",
   "metadata": {},
   "outputs": [
    {
     "name": "stdout",
     "output_type": "stream",
     "text": [
      "['McDermid', 'Kiyah']\n"
     ]
    }
   ],
   "source": [
    "names = ['Mikaul', 'Gahmel', 'McDermid', 'Kiyah', 'Tenee']\n",
    "print(names[2:4])"
   ]
  },
  {
   "cell_type": "code",
   "execution_count": 6,
   "id": "b9288f42",
   "metadata": {},
   "outputs": [
    {
     "data": {
      "text/plain": [
       "9"
      ]
     },
     "execution_count": 6,
     "metadata": {},
     "output_type": "execute_result"
    }
   ],
   "source": [
    "numbers = [1,2,3,4,5,6,7,8,9]\n",
    "max(numbers)"
   ]
  },
  {
   "cell_type": "code",
   "execution_count": 10,
   "id": "ed20ea03",
   "metadata": {},
   "outputs": [
    {
     "name": "stdout",
     "output_type": "stream",
     "text": [
      "81\n"
     ]
    }
   ],
   "source": [
    "numbers = [13,27,33,64,53,46,47,81,79]\n",
    "max = numbers[5]\n",
    "for number in numbers:\n",
    "    if max < number:\n",
    "        max = number\n",
    "print(max)"
   ]
  },
  {
   "cell_type": "code",
   "execution_count": 17,
   "id": "7822020a",
   "metadata": {},
   "outputs": [
    {
     "name": "stdout",
     "output_type": "stream",
     "text": [
      "1\n",
      "2\n",
      "FOUND!\n"
     ]
    }
   ],
   "source": [
    "numbers = [1,2,3,4,5,6,7,8]\n",
    "for number in numbers:\n",
    "    if number == 3:\n",
    "        print('FOUND!')\n",
    "        break\n",
    "    print(number)"
   ]
  },
  {
   "cell_type": "code",
   "execution_count": 19,
   "id": "2221fd0e",
   "metadata": {},
   "outputs": [
    {
     "name": "stdout",
     "output_type": "stream",
     "text": [
      "1\n",
      "2\n",
      "FOUND!\n",
      "4\n",
      "5\n",
      "6\n",
      "7\n",
      "8\n"
     ]
    }
   ],
   "source": [
    "numbers = [1,2,3,4,5,6,7,8]\n",
    "for number in numbers:\n",
    "    if number == 3:\n",
    "        print('FOUND!')\n",
    "        continue\n",
    "    print(number)"
   ]
  },
  {
   "cell_type": "code",
   "execution_count": 21,
   "id": "a6fd875e",
   "metadata": {},
   "outputs": [
    {
     "name": "stdout",
     "output_type": "stream",
     "text": [
      "1 a\n",
      "1 b\n",
      "1 c\n",
      "2 a\n",
      "2 b\n",
      "2 c\n",
      "3 a\n",
      "3 b\n",
      "3 c\n",
      "4 a\n",
      "4 b\n",
      "4 c\n",
      "5 a\n",
      "5 b\n",
      "5 c\n",
      "6 a\n",
      "6 b\n",
      "6 c\n",
      "7 a\n",
      "7 b\n",
      "7 c\n",
      "8 a\n",
      "8 b\n",
      "8 c\n"
     ]
    }
   ],
   "source": [
    "numbers = [1,2,3,4,5,6,7,8]\n",
    "for number in numbers:\n",
    "    for letter in 'abc':\n",
    "        print(number, letter)"
   ]
  },
  {
   "cell_type": "code",
   "execution_count": 23,
   "id": "b3e1edcd",
   "metadata": {},
   "outputs": [
    {
     "name": "stdout",
     "output_type": "stream",
     "text": [
      "0\n",
      "1\n",
      "2\n",
      "3\n",
      "4\n",
      "5\n",
      "6\n",
      "7\n",
      "8\n",
      "9\n"
     ]
    }
   ],
   "source": [
    "for i in range(10):\n",
    "    print(i)"
   ]
  },
  {
   "cell_type": "code",
   "execution_count": 26,
   "id": "717a6a4e",
   "metadata": {},
   "outputs": [
    {
     "name": "stdout",
     "output_type": "stream",
     "text": [
      "1\n",
      "2\n",
      "3\n",
      "4\n",
      "5\n",
      "6\n",
      "7\n",
      "8\n",
      "9\n",
      "10\n"
     ]
    }
   ],
   "source": [
    "for i in range(1,11):\n",
    "    print(i)"
   ]
  },
  {
   "cell_type": "code",
   "execution_count": 33,
   "id": "9e735c2b",
   "metadata": {},
   "outputs": [
    {
     "name": "stdout",
     "output_type": "stream",
     "text": [
      "0\n",
      "1\n",
      "2\n",
      "3\n",
      "4\n",
      "5\n",
      "6\n",
      "7\n",
      "8\n",
      "9\n"
     ]
    }
   ],
   "source": [
    "x = 0 \n",
    "while x < 10:\n",
    "    print(x)\n",
    "    x+=1"
   ]
  },
  {
   "cell_type": "code",
   "execution_count": 34,
   "id": "7317a94c",
   "metadata": {
    "scrolled": true
   },
   "outputs": [
    {
     "name": "stdout",
     "output_type": "stream",
     "text": [
      "0\n",
      "1\n",
      "2\n",
      "3\n",
      "4\n"
     ]
    }
   ],
   "source": [
    "x = 0 \n",
    "while x < 10:\n",
    "    if x == 5:\n",
    "        break\n",
    "    print(x)\n",
    "    x+=1"
   ]
  },
  {
   "cell_type": "code",
   "execution_count": 36,
   "id": "52e82231",
   "metadata": {},
   "outputs": [
    {
     "name": "stdout",
     "output_type": "stream",
     "text": [
      "0\n",
      "1\n",
      "2\n",
      "3\n",
      "4\n"
     ]
    }
   ],
   "source": [
    "x = 0 \n",
    "while True:\n",
    "    if x == 5:\n",
    "        break\n",
    "    print(x)\n",
    "    x+=1"
   ]
  },
  {
   "cell_type": "code",
   "execution_count": 40,
   "id": "84a3ea13",
   "metadata": {},
   "outputs": [
    {
     "name": "stdout",
     "output_type": "stream",
     "text": [
      "<function hello_func at 0x105a409a0>\n",
      "None\n"
     ]
    }
   ],
   "source": [
    "def hello_func():\n",
    "    pass\n",
    "hello_func()\n",
    "print(hello_func)\n",
    "print(hello_func())"
   ]
  },
  {
   "cell_type": "code",
   "execution_count": 46,
   "id": "ab629cc6",
   "metadata": {},
   "outputs": [
    {
     "name": "stdout",
     "output_type": "stream",
     "text": [
      "Hello Function.\n"
     ]
    }
   ],
   "source": [
    "def hello_func():\n",
    "    return 'Hello Function.'\n",
    "print(hello_func())"
   ]
  },
  {
   "cell_type": "code",
   "execution_count": 55,
   "id": "45a9802e",
   "metadata": {},
   "outputs": [
    {
     "name": "stdout",
     "output_type": "stream",
     "text": [
      "Enlo, Mikaul\n"
     ]
    }
   ],
   "source": [
    "def hello_func(greeting, name = 'You'):\n",
    "    return '{}, {}'.format(greeting, name)\n",
    "print(hello_func('Enlo', name = 'Mikaul'))"
   ]
  },
  {
   "cell_type": "code",
   "execution_count": 58,
   "id": "74c6a587",
   "metadata": {},
   "outputs": [
    {
     "name": "stdout",
     "output_type": "stream",
     "text": [
      "('Math', 'Art')\n",
      "{'name': 'Mikaul', 'age': 33}\n"
     ]
    }
   ],
   "source": [
    "def student_info(*args, **kwargs):\n",
    "    print(args)\n",
    "    print(kwargs)\n",
    "\n",
    "student_info('Math', 'Art', name = \"Mikaul\", age = 33)"
   ]
  },
  {
   "cell_type": "code",
   "execution_count": 3,
   "id": "b4375ad8",
   "metadata": {},
   "outputs": [],
   "source": [
    "def student_info(*args, **kwargs):\n",
    "    print(args)\n",
    "    print(kwargs)\n",
    "\n",
    "courses = ['Math', 'Art']\n",
    "info = {'name' : 'Mikaul', 'age':33 }"
   ]
  },
  {
   "cell_type": "markdown",
   "id": "77da2828",
   "metadata": {},
   "source": [
    "Define a function named calculate_tip. It should accept a tip percentage (a number between 0 and 1) and the bill total, and return the amount to tip."
   ]
  },
  {
   "cell_type": "code",
   "execution_count": null,
   "id": "a6bd164f",
   "metadata": {},
   "outputs": [],
   "source": [
    "def calculate_tip(tip_percentage, bill_amnt):\n",
    "    if 0 <= tip_percentage <= 1:\n",
    "        "
   ]
  }
 ],
 "metadata": {
  "kernelspec": {
   "display_name": "Python 3 (ipykernel)",
   "language": "python",
   "name": "python3"
  },
  "language_info": {
   "codemirror_mode": {
    "name": "ipython",
    "version": 3
   },
   "file_extension": ".py",
   "mimetype": "text/x-python",
   "name": "python",
   "nbconvert_exporter": "python",
   "pygments_lexer": "ipython3",
   "version": "3.11.5"
  }
 },
 "nbformat": 4,
 "nbformat_minor": 5
}
